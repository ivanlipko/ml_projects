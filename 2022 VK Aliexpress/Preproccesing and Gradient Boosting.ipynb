{
 "cells": [
  {
   "cell_type": "markdown",
   "metadata": {},
   "source": [
    "# Отбор на стажировку 2022 стажёр-data scientist AliExpress Россия, 1 этап тестирование \"машинное обучение\"\n",
    "**Этап 1. Стажёр-data scientist**\n",
    "\n",
    "\n",
    "**Вопрос 19**\n",
    "Предобработка данных и их влияние на модель.\n",
    "\n",
    "Продемонстрировать любым из алгоритмов (например, sklearn.GBM, XGBoost, LGBM) на каком-либо датасете из sklearn, например, wine, boston, diabets.\n",
    "\n",
    "Показать код, результаты и их интерпретацию."
   ]
  },
  {
   "cell_type": "markdown",
   "metadata": {},
   "source": [
    "**Гипотеза**\n",
    "\n",
    "1. Деревьям вёравно на масштаб данных. Но поскольку здесь для поиска параметров алгоритма применяется градиентный метод, то масштаб данных будет играть роль. Из опыта я знаю, что обычно масштабирование улучшает результаты.\n",
    "\n",
    "2. проверку будем делать с помощью кроссвалидации на всём датасете. при чистке сделаем соответственно разделение на тест/обучающую выборку\n",
    "\n",
    "\n",
    "**Заключение**\n",
    "1. на голых данных - На тесте большой разброс качества\n",
    "1. Сделал чистку по выбросам (выше 0.99 квантиля) - выбросили около 20 элементов\n",
    "2. после чистки на тесте значительно снилизся раброс, увеличилось среднее качество\n",
    "3. некоторые методы нормализации уменьшают разброс метрики по сравнению с исходными данными.\n",
    "\n",
    "\n",
    "**Бейзлайн на сырых данных**\n",
    "\n",
    "| Метод | Mean | Std |\n",
    "| --- | --- | --- |\n",
    "|Train\t| 0.9766060454727914 | 0.0010930562077840602 |\n",
    "|Test|\t 0.5315287596286704 | 0.3998561954145106 |\n",
    "\n",
    "**После чистки**\n",
    "\n",
    "| Метод | Mean | Std |\n",
    "| --- | --- | --- |\n",
    "|Train\t| 0.9818250630222942 | 0.0012934629706688743\n",
    "|Test\t| 0.8727859685014053 | 0.023656194503395227\n",
    "\n",
    "**RobustScale сырых данных**\n",
    "\n",
    "| Метод | Mean | Std |\n",
    "| --- | --- | --- |\n",
    "|Train\t| 0.9766060454727914 | 0.0010930562077840602\n",
    "|Test\t| 0.5309324905983959 | 0.40029676204826053\n",
    "\n",
    "\n",
    "**Затраты времени**\n",
    "\n",
    "Всего потрачено времени: 3 часа\n",
    "\n",
    "Чтобы понять что хотят в задаче около: 2 часов\n",
    "\n",
    "Набор кода: 0.5 часа\n",
    "\n",
    "Основное решение: 0.5 часа"
   ]
  },
  {
   "cell_type": "markdown",
   "metadata": {},
   "source": [
    "Подключаем библы"
   ]
  },
  {
   "cell_type": "code",
   "execution_count": 1,
   "metadata": {},
   "outputs": [],
   "source": [
    "from sklearn import ensemble\n",
    "import pandas as pd\n",
    "\n",
    "from sklearn.model_selection import train_test_split, cross_val_score, cross_validate\n",
    "from sklearn.metrics import r2_score\n",
    "\n",
    "from sklearn import preprocessing  # модуль с фукнциями препроцессинга\n",
    "\n",
    "import matplotlib.pyplot as plt\n",
    "import seaborn as sns\n",
    "import numpy as np"
   ]
  },
  {
   "cell_type": "markdown",
   "metadata": {},
   "source": [
    "Загружаем данные"
   ]
  },
  {
   "cell_type": "code",
   "execution_count": 2,
   "metadata": {},
   "outputs": [],
   "source": [
    "from sklearn.datasets import load_boston\n",
    "data = load_boston()\n",
    "    \n",
    "x = pd.DataFrame(data.data, columns=data['feature_names'])\n",
    "y = data.target\n",
    "\n",
    "x_train, x_test, y_train, y_test = train_test_split(x,y, test_size=0.3, random_state=5)\n",
    "\n",
    "# print(data['DESCR'])\n",
    "# x.head()"
   ]
  },
  {
   "cell_type": "code",
   "execution_count": 3,
   "metadata": {},
   "outputs": [],
   "source": [
    "# x.describe()"
   ]
  },
  {
   "cell_type": "code",
   "execution_count": 4,
   "metadata": {},
   "outputs": [],
   "source": [
    "# sns.pairplot(x, size=2.5)\n",
    "# plt.tight_layout()"
   ]
  },
  {
   "cell_type": "markdown",
   "metadata": {},
   "source": [
    "### Бейзлан без обработки данных"
   ]
  },
  {
   "cell_type": "code",
   "execution_count": 5,
   "metadata": {},
   "outputs": [],
   "source": [
    "estGBR = ensemble.GradientBoostingRegressor(random_state=5)"
   ]
  },
  {
   "cell_type": "code",
   "execution_count": 6,
   "metadata": {},
   "outputs": [
    {
     "name": "stdout",
     "output_type": "stream",
     "text": [
      "Train\t 0.9766060454727914 0.0010930562077840602\n",
      "Test\t 0.5315287596286704 0.3998561954145106\n"
     ]
    }
   ],
   "source": [
    "scores = cross_validate(estGBR, x,y, scoring='r2', cv=13, n_jobs=-1, return_train_score=True)\n",
    "print('Train\\t', scores['train_score'].mean(), scores['train_score'].std())\n",
    "print('Test\\t', scores['test_score'].mean(), scores['test_score'].std())\n",
    "\n",
    "# estGBR.fit(x_train, y_train)\n",
    "# y_pred = estGBR.predict(x_test)\n",
    "# r2_score(y_test, y_pred)"
   ]
  },
  {
   "cell_type": "markdown",
   "metadata": {},
   "source": [
    "**Заключение:**\n",
    "\n",
    "На тесте большой разброс качества"
   ]
  },
  {
   "cell_type": "markdown",
   "metadata": {},
   "source": [
    "## Чистка данных"
   ]
  },
  {
   "cell_type": "code",
   "execution_count": 7,
   "metadata": {},
   "outputs": [
    {
     "data": {
      "text/plain": [
       "(334, 13)"
      ]
     },
     "execution_count": 7,
     "metadata": {},
     "output_type": "execute_result"
    }
   ],
   "source": [
    "# cols = ['ZN', 'B']   # колонки с наибольшим разбросом\n",
    "def clean(x_train, y_train):\n",
    "    cols = data.feature_names\n",
    "    q = x[cols].quantile(.99).values\n",
    "#     print(q)\n",
    "\n",
    "    x_tr = x_train.copy()\n",
    "    y_tr = y_train.copy()\n",
    "    \n",
    "# удалить дубликаты\n",
    "    x_tr = x_tr.drop_duplicates()\n",
    "    \n",
    "#     Удалить выборсы в данных\n",
    "    for i in range(len(q)):\n",
    "        indx = x_tr[cols[i]] <= q[i]\n",
    "        x_tr = x_tr[indx]\n",
    "        y_tr = y_tr[indx]\n",
    "\n",
    "    return x_tr, y_tr\n",
    "\n",
    "x_tr, y_tr = clean(x_train, y_train)\n",
    "x_tr.shape"
   ]
  },
  {
   "cell_type": "markdown",
   "metadata": {},
   "source": [
    "**Заключение**\n",
    "\n",
    "При чистке выбросили около 20 элементов"
   ]
  },
  {
   "cell_type": "markdown",
   "metadata": {},
   "source": [
    "### Прогноз после чистки"
   ]
  },
  {
   "cell_type": "code",
   "execution_count": 8,
   "metadata": {},
   "outputs": [
    {
     "name": "stdout",
     "output_type": "stream",
     "text": [
      "Train\t 0.9818250630222942 0.0012934629706688743\n",
      "Test\t 0.8727859685014053 0.023656194503395227\n"
     ]
    }
   ],
   "source": [
    "scores_train = []\n",
    "scores_test = []\n",
    "\n",
    "for i in [15,16,17,24,475, 234, 832, 854, 345, 27, 23]:\n",
    "    x_train, x_test, y_train, y_test = train_test_split(x,y, test_size=0.3, random_state=i)\n",
    "    x_tr, y_tr = clean(x_train, y_train)\n",
    "    \n",
    "    estGBR = ensemble.GradientBoostingRegressor(random_state=5)\n",
    "    estGBR.fit(x_tr, y_tr)\n",
    "    \n",
    "    y_pred = estGBR.predict(x_tr)\n",
    "    sc = r2_score(y_tr, y_pred)\n",
    "    scores_train.append(sc)\n",
    "    \n",
    "    y_pred = estGBR.predict(x_test)\n",
    "    sc = r2_score(y_test, y_pred)\n",
    "    scores_test.append(sc)\n",
    "    \n",
    "print('Train\\t', np.mean(scores_train), np.std(scores_train))\n",
    "print('Test\\t', np.mean(scores_test), np.std(scores_test))\n",
    "    "
   ]
  },
  {
   "cell_type": "markdown",
   "metadata": {},
   "source": [
    "**Заключение:**\n",
    "\n",
    "На тесте разброс значений метрики меньше чем без чистки."
   ]
  },
  {
   "cell_type": "markdown",
   "metadata": {},
   "source": [
    "## Нормализация данных"
   ]
  },
  {
   "cell_type": "markdown",
   "metadata": {},
   "source": [
    "Для этого примера используются исходные не очищенные данные"
   ]
  },
  {
   "cell_type": "code",
   "execution_count": 9,
   "metadata": {},
   "outputs": [
    {
     "data": {
      "text/plain": [
       "0.8110471882705071"
      ]
     },
     "execution_count": 9,
     "metadata": {},
     "output_type": "execute_result"
    }
   ],
   "source": [
    "estGBR = ensemble.GradientBoostingRegressor(random_state=5)\n",
    "\n",
    "x_tr = preprocessing.normalize(x_train, norm='l1')\n",
    "x_te = preprocessing.normalize(x_test, norm='l1')\n",
    "\n",
    "estGBR.fit(x_tr, y_train)\n",
    "y_pred = estGBR.predict(x_te)\n",
    "r2_score(y_test, y_pred)"
   ]
  },
  {
   "cell_type": "code",
   "execution_count": 10,
   "metadata": {},
   "outputs": [
    {
     "name": "stdout",
     "output_type": "stream",
     "text": [
      "Train\t 0.9707210433661071 0.0015667778933249662\n",
      "Test\t 0.4944030996024675 0.2843994809370431\n"
     ]
    }
   ],
   "source": [
    "x_t = preprocessing.normalize(x, norm='l1')\n",
    "scores = cross_validate(estGBR, x_t,y, scoring='r2', cv=13, n_jobs=-1, return_train_score=True)\n",
    "print('Train\\t', scores['train_score'].mean(), scores['train_score'].std())\n",
    "print('Test\\t', scores['test_score'].mean(), scores['test_score'].std())"
   ]
  },
  {
   "cell_type": "markdown",
   "metadata": {},
   "source": [
    "### minmax_scale"
   ]
  },
  {
   "cell_type": "code",
   "execution_count": 11,
   "metadata": {},
   "outputs": [
    {
     "data": {
      "text/plain": [
       "0.7766376579770594"
      ]
     },
     "execution_count": 11,
     "metadata": {},
     "output_type": "execute_result"
    }
   ],
   "source": [
    "estGBR = ensemble.GradientBoostingRegressor(random_state=5)\n",
    "\n",
    "x_tr = preprocessing.minmax_scale(x_train)\n",
    "x_te = preprocessing.minmax_scale(x_test)\n",
    "\n",
    "estGBR.fit(x_tr, y_train)\n",
    "y_pred = estGBR.predict(x_te)\n",
    "r2_score(y_test, y_pred)"
   ]
  },
  {
   "cell_type": "code",
   "execution_count": 12,
   "metadata": {},
   "outputs": [
    {
     "name": "stdout",
     "output_type": "stream",
     "text": [
      "Train\t 0.9766060454727914 0.0010930562077840602\n",
      "Test\t 0.5309324905983959 0.40029676204826053\n"
     ]
    }
   ],
   "source": [
    "x_t = preprocessing.minmax_scale(x)\n",
    "scores = cross_validate(estGBR, x_t,y, scoring='r2', cv=13, n_jobs=-1, return_train_score=True)\n",
    "print('Train\\t', scores['train_score'].mean(), scores['train_score'].std())\n",
    "print('Test\\t', scores['test_score'].mean(), scores['test_score'].std())"
   ]
  },
  {
   "cell_type": "markdown",
   "metadata": {},
   "source": [
    "### RobustScale"
   ]
  },
  {
   "cell_type": "markdown",
   "metadata": {},
   "source": [
    "В следующие варианте важно \"обучить\" трансформер на выборке обучения, чтобы был один масштаб. Если этого не сделать (код в комментариях), то будут использованы данные с разными масштабами, поскольку выборки обучения и теста могут быть разные."
   ]
  },
  {
   "cell_type": "code",
   "execution_count": 13,
   "metadata": {},
   "outputs": [
    {
     "data": {
      "text/plain": [
       "0.8292623696817077"
      ]
     },
     "execution_count": 13,
     "metadata": {},
     "output_type": "execute_result"
    }
   ],
   "source": [
    "estGBR = ensemble.GradientBoostingRegressor(random_state=5)\n",
    "\n",
    "# x_tr = preprocessing.robust_scale(x_train)\n",
    "# x_te = preprocessing.robust_scale(x_test)\n",
    "\n",
    "scl = preprocessing.RobustScaler()\n",
    "scl.fit(x_train)\n",
    "x_tr = scl.transform(x_train)\n",
    "x_te = scl.transform(x_test)\n",
    "\n",
    "estGBR.fit(x_tr, y_train)\n",
    "y_pred = estGBR.predict(x_te)\n",
    "r2_score(y_test, y_pred)"
   ]
  },
  {
   "cell_type": "code",
   "execution_count": 14,
   "metadata": {},
   "outputs": [
    {
     "name": "stdout",
     "output_type": "stream",
     "text": [
      "Train\t 0.9766060454727914 0.0010930562077840602\n",
      "Test\t 0.5309324905983959 0.40029676204826053\n"
     ]
    }
   ],
   "source": [
    "x_t = preprocessing.minmax_scale(x)\n",
    "scores = cross_validate(estGBR, x_t,y, scoring='r2', cv=13, n_jobs=-1, return_train_score=True)\n",
    "print('Train\\t', scores['train_score'].mean(), scores['train_score'].std())\n",
    "print('Test\\t', scores['test_score'].mean(), scores['test_score'].std())"
   ]
  },
  {
   "cell_type": "markdown",
   "metadata": {},
   "source": [
    "**Заключение:**\n",
    "\n",
    "некоторые методы нормализации уменьшают разброс метрики по сравнению с исходными данными."
   ]
  },
  {
   "cell_type": "code",
   "execution_count": null,
   "metadata": {},
   "outputs": [],
   "source": []
  },
  {
   "cell_type": "code",
   "execution_count": null,
   "metadata": {},
   "outputs": [],
   "source": []
  }
 ],
 "metadata": {
  "kernelspec": {
   "display_name": "Python 3",
   "language": "python",
   "name": "python3"
  },
  "language_info": {
   "codemirror_mode": {
    "name": "ipython",
    "version": 3
   },
   "file_extension": ".py",
   "mimetype": "text/x-python",
   "name": "python",
   "nbconvert_exporter": "python",
   "pygments_lexer": "ipython3",
   "version": "3.7.3"
  },
  "toc": {
   "base_numbering": 1,
   "nav_menu": {},
   "number_sections": true,
   "sideBar": true,
   "skip_h1_title": false,
   "title_cell": "Table of Contents",
   "title_sidebar": "Contents",
   "toc_cell": false,
   "toc_position": {},
   "toc_section_display": true,
   "toc_window_display": false
  },
  "varInspector": {
   "cols": {
    "lenName": 16,
    "lenType": 16,
    "lenVar": 40
   },
   "kernels_config": {
    "python": {
     "delete_cmd_postfix": "",
     "delete_cmd_prefix": "del ",
     "library": "var_list.py",
     "varRefreshCmd": "print(var_dic_list())"
    },
    "r": {
     "delete_cmd_postfix": ") ",
     "delete_cmd_prefix": "rm(",
     "library": "var_list.r",
     "varRefreshCmd": "cat(var_dic_list()) "
    }
   },
   "types_to_exclude": [
    "module",
    "function",
    "builtin_function_or_method",
    "instance",
    "_Feature"
   ],
   "window_display": false
  }
 },
 "nbformat": 4,
 "nbformat_minor": 4
}
