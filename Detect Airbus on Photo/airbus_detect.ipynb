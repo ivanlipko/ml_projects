{
 "cells": [
  {
   "cell_type": "code",
   "execution_count": null,
   "metadata": {
    "collapsed": true
   },
   "outputs": [],
   "source": [
    "# модуль библиотеки OpenCV для работы с изображениями\n",
    "import cv2\n",
    "\n",
    "# всякие полезные библиотеки для работы с матрицами / отрисовки / etc.\n",
    "import glob\n",
    "import tqdm\n",
    "import numpy as np\n",
    "import matplotlib.pyplot as plt\n",
    "import seaborn as sns\n",
    "%matplotlib inline\n",
    "\n",
    "plt.rcParams['figure.figsize'] = (12, 5)\n",
    "sns.set_style(\"white\")\n",
    "\n",
    "from os.path import basename # чтобы достать имя файла из пути\n"
   ]
  },
  {
   "cell_type": "markdown",
   "metadata": {},
   "source": [
    "### 1. Подгружаем данные, смотрим на них"
   ]
  },
  {
   "cell_type": "code",
   "execution_count": 621,
   "metadata": {
    "collapsed": true
   },
   "outputs": [],
   "source": [
    "pos_size = 81\n",
    "neg_size = 90 # Будет лучше, если положительных и отрицательных примеров будет поровну\n",
    "PATH_POS = \"/srv/samba/share/data/airbus/train/11/\"\n",
    "# 1 = 81\n",
    "# 2 = 324\n",
    "# 3 =4 = 27\n",
    "# 1+4 = 108\n",
    "#5 = 152\n",
    "# 7 = 222\n",
    "# 8 = 246\n",
    "# 3+4 = 54\n",
    "# 3+4c = 216\n",
    "# 3+4c+add = 415\n",
    "# 11 = 27\n",
    "\n",
    "PATH_NEG = \"/srv/samba/share/data/airbus/fail/11/\"\n",
    "# 1 = 90\n",
    "# 2 = 75\n",
    "# 3 =4 = 30\n",
    "# 5 = 93, 105\n",
    "# 6 = 516\n",
    "# 7 = 207\n",
    "#8 = 221\n",
    "# 9 = 240\n",
    "# 3+4 = 60\n",
    "# 3+4c = 240\n",
    "# 3+4c = 442\n",
    "# 3+4c+add1 = 626\n",
    "# 11 = 40\n",
    "\n",
    "\n",
    "PATH_TEST = \"/srv/samba/share/data/airbus/test/color/\""
   ]
  },
  {
   "cell_type": "code",
   "execution_count": 622,
   "metadata": {
    "collapsed": true
   },
   "outputs": [],
   "source": [
    "def read_faces(path, number):\n",
    "    \"\"\"\n",
    "    Функция для загрузки изображений из папки по пути path.\n",
    "    \"\"\"\n",
    "    names = glob.glob(path + \"*.*\")\n",
    "    data = []\n",
    "    for name in tqdm.tqdm_notebook(names[:number]):\n",
    "        image = cv2.resize(cv2.imread(name, cv2.IMREAD_GRAYSCALE), (64, 64))\n",
    "#         data.append(cv2.pyrUp(image[16:48, 16:48]))\n",
    "        data.append(image)\n",
    "    return np.array(data)"
   ]
  },
  {
   "cell_type": "code",
   "execution_count": 623,
   "metadata": {},
   "outputs": [
    {
     "data": {
      "application/vnd.jupyter.widget-view+json": {
       "model_id": "fad68d587c6a4e6dbb96057dd612b449"
      }
     },
     "metadata": {},
     "output_type": "display_data"
    },
    {
     "name": "stdout",
     "output_type": "stream",
     "text": [
      "\n",
      "Read 81 images, \n",
      "data_pos shape is (27, 64, 64), \n",
      "labels_pos shape is (27, 1)\n"
     ]
    }
   ],
   "source": [
    "data_pos = read_faces(path=PATH_POS, number=pos_size) # получим np.array с N_FACES изображениями лиц размера (64, 64)\n",
    "labels_pos = np.ones(shape=(len(data_pos), 1)) # np.array c единичками \n",
    "print(\"Read %d images, \\ndata_pos shape is %s, \\nlabels_pos shape is %s\" % (pos_size, data_pos.shape, labels_pos.shape))"
   ]
  },
  {
   "cell_type": "code",
   "execution_count": 234,
   "metadata": {
    "collapsed": true
   },
   "outputs": [],
   "source": [
    "def show_random_images(data, size = 5):\n",
    "    \"\"\"\n",
    "    Функция для отрисовки size x size случайных изображений из data.\n",
    "    \"\"\"\n",
    "    random_idxs = np.random.randint(0, len(data), size ** 2)\n",
    "    \n",
    "    plt.figure(figsize=(12 ,5))\n",
    "    for i in range(size):\n",
    "        for j in range(size):\n",
    "            \n",
    "            num = i * size + j\n",
    "            plt.subplot(size, size, num + 1)\n",
    "            pic = cv2.resize(data[num], (64, 64))\n",
    "            pic = data[num]\n",
    "            plt.imshow(pic, cmap='gray')\n",
    "            plt.axis('off')\n",
    "    \n",
    "    plt.show()"
   ]
  },
  {
   "cell_type": "code",
   "execution_count": null,
   "metadata": {
    "collapsed": true
   },
   "outputs": [],
   "source": [
    "show_random_images(data_pos, size=5)"
   ]
  },
  {
   "cell_type": "code",
   "execution_count": 624,
   "metadata": {
    "collapsed": true
   },
   "outputs": [],
   "source": [
    "def read_backgrounds(path, number):\n",
    "    names = glob.glob(path + \"*.*\")\n",
    "    data = []\n",
    "    for name in tqdm.tqdm_notebook(names[:number]):\n",
    "        image = cv2.resize(cv2.imread(name, cv2.IMREAD_GRAYSCALE), (64, 64))\n",
    "#         data.append(cv2.pyrUp(image[16:48, 16:48]))\n",
    "        data.append(image)\n",
    "    return np.array(data)"
   ]
  },
  {
   "cell_type": "code",
   "execution_count": 625,
   "metadata": {},
   "outputs": [
    {
     "data": {
      "application/vnd.jupyter.widget-view+json": {
       "model_id": "627818ace68343d1868c6843161748ae"
      }
     },
     "metadata": {},
     "output_type": "display_data"
    },
    {
     "name": "stdout",
     "output_type": "stream",
     "text": [
      "\n",
      "Read 90 images, \n",
      "data_neg shape is (40, 64, 64), \n",
      "labels_neg shape is (40, 1)\n"
     ]
    }
   ],
   "source": [
    "data_neg = read_backgrounds(path=PATH_NEG, number=neg_size)\n",
    "labels_neg = np.zeros((len(data_neg), 1)) # np.array с нулями\n",
    "print(\"Read %d images, \\ndata_neg shape is %s, \\nlabels_neg shape is %s\" % (neg_size, data_neg.shape, labels_neg.shape))"
   ]
  },
  {
   "cell_type": "code",
   "execution_count": null,
   "metadata": {
    "collapsed": true
   },
   "outputs": [],
   "source": [
    "show_random_images(data_neg)"
   ]
  },
  {
   "cell_type": "code",
   "execution_count": 626,
   "metadata": {
    "collapsed": true
   },
   "outputs": [],
   "source": [
    "X = np.concatenate([data_pos, data_neg])\n",
    "y = np.concatenate([labels_pos, labels_neg])\n",
    "del data_pos, data_neg, labels_pos, labels_neg"
   ]
  },
  {
   "cell_type": "code",
   "execution_count": 627,
   "metadata": {},
   "outputs": [
    {
     "name": "stdout",
     "output_type": "stream",
     "text": [
      "Shape of X is (67, 64, 64),\n",
      "Shape of y is (67, 1)\n"
     ]
    }
   ],
   "source": [
    "print(\"Shape of X is %s,\\nShape of y is %s\" % (X.shape, y.shape))"
   ]
  },
  {
   "cell_type": "markdown",
   "metadata": {},
   "source": [
    "### 2. Пишем функцию для извлечения HOG"
   ]
  },
  {
   "cell_type": "code",
   "execution_count": 628,
   "metadata": {
    "collapsed": true
   },
   "outputs": [],
   "source": [
    "def get_hog_vector(grayscale_image):\n",
    "    \"\"\"\n",
    "    Функция, возвращающая вектор HOG для одного grayscale-изображения размера (64 x 64). \n",
    "    Возвращаемый вектор имеет вид (1 x длина вектора HOG).\n",
    "    \"\"\"\n",
    "    \n",
    "    image_resized = cv2.resize(grayscale_image, (64, 64))\n",
    " \n",
    "    hog_descriptor = cv2.HOGDescriptor((64, 64), #winsize\n",
    "                                       (32, 32), #blocksize\n",
    "                                       (16, 16), #blockstride\n",
    "                                       (8, 8),   #cellsize\n",
    "                                       9)        #nbins\n",
    "\n",
    "    return hog_descriptor.compute(image_resized).T"
   ]
  },
  {
   "cell_type": "code",
   "execution_count": 629,
   "metadata": {},
   "outputs": [
    {
     "name": "stdout",
     "output_type": "stream",
     "text": [
      "(1, 1296)\n"
     ]
    }
   ],
   "source": [
    "vector_hog = get_hog_vector(X[0])\n",
    "#vector_hog1 = get_hog_vector(X[1])\n",
    "print(vector_hog.shape)\n",
    "\n",
    "# Проверка\n",
    "# assert vector_hog.shape == (1, 96), r\"Dimensions mismatch: vector_hog must be of shape (1, 144)\""
   ]
  },
  {
   "cell_type": "code",
   "execution_count": 630,
   "metadata": {},
   "outputs": [
    {
     "data": {
      "text/plain": [
       "<matplotlib.legend.Legend at 0x7f30b796e080>"
      ]
     },
     "execution_count": 630,
     "metadata": {},
     "output_type": "execute_result"
    },
    {
     "name": "stderr",
     "output_type": "stream",
     "text": [
      "/usr/local/lib/python3.5/dist-packages/matplotlib/font_manager.py:1297: UserWarning: findfont: Font family ['sans-serif'] not found. Falling back to DejaVu Sans\n",
      "  (prop.get_family(), self.defaultFamily[fontext]))\n"
     ]
    },
    {
     "data": {
      "image/png": "[encoded data removed]",
      "text/plain": [
       "<matplotlib.figure.Figure at 0x7f30b75800b8>"
      ]
     },
     "metadata": {},
     "output_type": "display_data"
    }
   ],
   "source": [
    "plt.figure(figsize=(12, 5))\n",
    "plt.bar(range(vector_hog.shape[1]), vector_hog.flatten(), label=\"HOG\", color=[0.1,0.9,0.1]) \n",
    "plt.legend()"
   ]
  },
  {
   "cell_type": "code",
   "execution_count": 160,
   "metadata": {
    "collapsed": true,
    "scrolled": true
   },
   "outputs": [],
   "source": [
    "# plt.figure(figsize=(12, 5))\n",
    "# plt.hold(True)\n",
    "# for i in range(5):\n",
    "#     plt.bar(range(vector_hog.shape[1]), get_hog_vector(X[i] + 10).flatten(), label=\"HOG\", color=[0.45 + 0.05 * i,0.1,0.1])\n",
    "    \n",
    "# for i in range(5):\n",
    "#     plt.bar(range(vector_hog.shape[1]), get_hog_vector(X[i + pos_size + 10]).flatten(), label=\"HOG\", color=[0.1,0.45 + 0.05 * i,0.1])"
   ]
  },
  {
   "cell_type": "code",
   "execution_count": 32,
   "metadata": {
    "collapsed": true
   },
   "outputs": [],
   "source": [
    "# plt.figure(figsize=(12, 5))\n",
    "# plt.hold(True)\n",
    "# for i in range(5):\n",
    "# #     plt.plot(xdata = range(vector_hog.shape[1]), ydata = get_hog_vector(X[i] ).flatten(), label=\"HOG\", color=[0.45 + 0.05 * i,0.1,0.1])\n",
    "#     plt.plot( range(vector_hog.shape[1]),  get_hog_vector(X[i] ).flatten(), color=[0.45 + 0.05 * i,0.1,0.1], marker='.', linestyle='None')\n",
    "    \n",
    "# for i in range(5):\n",
    "#     plt.plot( range(vector_hog.shape[1]),  get_hog_vector(X[i + pos_size ] ).flatten(), color=[0.1,0.45 + 0.05 * i,0.1], marker='.', linestyle='None')\n"
   ]
  },
  {
   "cell_type": "code",
   "execution_count": 633,
   "metadata": {
    "collapsed": true
   },
   "outputs": [],
   "source": [
    "def get_hog_matrix(array_images):\n",
    "    \"\"\"\n",
    "    Функция, возвращающая матрицу, i-я строка которой является вектором HOG для i-го изображения \n",
    "    входного массива.\n",
    "    Возвращаемая матрица имеет вид (число изображений x длина вектора HOG)\n",
    "    \"\"\"\n",
    "    \n",
    "    # Ваш код здесь\n",
    "    \n",
    "#     matrix = np.array([get_hog_vector(image.reshape(128, 128)).flatten() for image in array_images]) \n",
    "    matrix = np.array([get_hog_vector(image.reshape(64, 64)).flatten() for image in array_images]) \n",
    "    return matrix"
   ]
  },
  {
   "cell_type": "code",
   "execution_count": 634,
   "metadata": {
    "collapsed": true
   },
   "outputs": [],
   "source": [
    "X_hog = get_hog_matrix(X)\n",
    "\n",
    "# Проверка\n",
    "# assert X_hog.shape == (neg_size + pos_size, 96), r\"Dimensions mismatch: data_hog must be of shape (%d, 1296)\" % (neg_size + pos_size)"
   ]
  },
  {
   "cell_type": "markdown",
   "metadata": {},
   "source": [
    "### 3. Обучаем SVM на признаках HOG нашего датасета"
   ]
  },
  {
   "cell_type": "code",
   "execution_count": 635,
   "metadata": {
    "collapsed": true
   },
   "outputs": [],
   "source": [
    "# Отмасштабируем наши признаки, чтобы среднее значение и дисперсия каждого из признаков были равны 0 и 1\n",
    "\n",
    "from sklearn.preprocessing import StandardScaler\n",
    "scaler = StandardScaler()\n",
    "X_hog = scaler.fit_transform(X_hog)"
   ]
  },
  {
   "cell_type": "code",
   "execution_count": 636,
   "metadata": {
    "collapsed": true
   },
   "outputs": [],
   "source": [
    "# модули для оптимизации моделей машинного обучения\n",
    "from sklearn.svm import SVC\n",
    "from sklearn.model_selection import GridSearchCV, RandomizedSearchCV, train_test_split"
   ]
  },
  {
   "cell_type": "code",
   "execution_count": 637,
   "metadata": {
    "collapsed": true
   },
   "outputs": [],
   "source": [
    "X_train, X_test, y_train, y_test = train_test_split(X_hog, y, test_size=0.3)"
   ]
  },
  {
   "cell_type": "code",
   "execution_count": 638,
   "metadata": {},
   "outputs": [
    {
     "data": {
      "text/plain": [
       "SVC(C=0.01, cache_size=200, class_weight=None, coef0=0.0,\n",
       "  decision_function_shape=None, degree=3, gamma='auto', kernel='linear',\n",
       "  max_iter=-1, probability=True, random_state=None, shrinking=True,\n",
       "  tol=0.001, verbose=False)"
      ]
     },
     "execution_count": 638,
     "metadata": {},
     "output_type": "execute_result"
    }
   ],
   "source": [
    "svm = SVC(C=1e-2, kernel='linear', probability=True)\n",
    "# svm = SVC(C=1e-1, kernel='sigmoid', probability=True)\n",
    "svm.fit(X_train, y_train.ravel())\n",
    "\n",
    "# Ваш код здесь (по желанию)."
   ]
  },
  {
   "cell_type": "code",
   "execution_count": 639,
   "metadata": {},
   "outputs": [
    {
     "name": "stdout",
     "output_type": "stream",
     "text": [
      "Accuracy on test set is  1.0000\n",
      "             precision    recall  f1-score   support\n",
      "\n",
      "        0.0    1.00000   1.00000   1.00000        15\n",
      "        1.0    1.00000   1.00000   1.00000         6\n",
      "\n",
      "avg / total    1.00000   1.00000   1.00000        21\n",
      "\n"
     ]
    }
   ],
   "source": [
    "y_pred = svm.predict(X_test)\n",
    "\n",
    "from sklearn.metrics import accuracy_score\n",
    "print(\"Accuracy on test set is % .4f\" % accuracy_score(y_test, y_pred))\n",
    "from sklearn.metrics import classification_report\n",
    "print(classification_report(y_test, y_pred, digits=5))"
   ]
  },
  {
   "cell_type": "code",
   "execution_count": 640,
   "metadata": {
    "collapsed": true
   },
   "outputs": [],
   "source": [
    "# Ваш код здесь\n",
    "\n",
    "info = svm.fit(X_hog, y.ravel())"
   ]
  },
  {
   "cell_type": "markdown",
   "metadata": {},
   "source": [
    "##  подбор параметров"
   ]
  },
  {
   "cell_type": "code",
   "execution_count": 616,
   "metadata": {
    "collapsed": true
   },
   "outputs": [],
   "source": [
    "def plot_validation_curve(param_list, param_name, cv_train_mean, cv_train_std, cv_test_mean, cv_test_std, logscale=False):\n",
    "    \"\"\"\n",
    "    Вспомогательная функция для построения кривых качества на валидации/тесте в зависимости от значений гиперпараметра.\n",
    "    param_list: список из значений параметра\n",
    "    param_name: имя для параметра (для отображения на графике)\n",
    "    cv_train_mean: список из значений метрики качества на обучающей подвыборке для каждого значения параметра\n",
    "    cv_train_std: СКО для него\n",
    "    cv_test_mean: список из значений метрики качества на тестовой подвыборке для каждого значения параметра\n",
    "    cv_test_std: СКО для него\n",
    "    logscale: ставьте True если параметр меняется в логарифмическом масштабе, по умолчанию False\n",
    "    \"\"\"\n",
    "    cv_train_mean_ar = np.array(cv_train_mean)\n",
    "    cv_train_std_ar = np.array(cv_train_std)\n",
    "    cv_test_mean_ar = np.array(cv_test_mean)\n",
    "    cv_test_std_ar = np.array(cv_test_std)\n",
    "    \n",
    "    \n",
    "    plt.plot(param_list, cv_train_mean, label='CV train score')\n",
    "    plt.fill_between(param_list, cv_train_mean_ar - cv_train_std_ar, cv_train_mean_ar + cv_train_std_ar, facecolor='blue', alpha=0.3)\n",
    "    plt.plot(param_list, cv_test_mean, label='CV test score')\n",
    "    plt.fill_between(param_list, cv_test_mean_ar - cv_test_std_ar, cv_test_mean_ar + cv_test_std_ar, facecolor='green', alpha=0.3)\n",
    "    \n",
    "    \n",
    "#     plt.plot(param_list, test_mean, label='Test score')\n",
    "    \n",
    "    plt.title(\"Validation curve for parameter %s\" % param_name)\n",
    "    plt.legend()\n",
    "    \n",
    "    if logscale:\n",
    "        plt.xscale('log')\n",
    "    plt.show()"
   ]
  },
  {
   "cell_type": "markdown",
   "metadata": {},
   "source": [
    "### 4.1. Пишем функцию для реализации метода sliding window"
   ]
  },
  {
   "cell_type": "code",
   "execution_count": 641,
   "metadata": {
    "collapsed": true
   },
   "outputs": [],
   "source": [
    "def sliding_window(image, winside=64, step=64):\n",
    "    \"\"\"\n",
    "    Функция-генератор для сканирования изображения окном размера (winside x winside) с шагом step.\n",
    "    Возвращает 4-кортеж координат окна вида (y1, x1, y2, x2).\n",
    "    \"\"\"\n",
    "    \n",
    "    for i in range(0, int((image.shape[0] - winside) / step + 1) ):\n",
    "        for j in range(0, int((image.shape[1] - winside) / step + 1) ):\n",
    "            yield (i * step, \n",
    "                   j * step, \n",
    "                   i * step + winside, \n",
    "                   j * step + winside)"
   ]
  },
  {
   "cell_type": "code",
   "execution_count": 642,
   "metadata": {
    "collapsed": true
   },
   "outputs": [],
   "source": [
    "def fileName(path):\n",
    "    words = re.split('_',basename(path))[:1]\n",
    "    return '_'.join(words)+'.jpg'"
   ]
  },
  {
   "cell_type": "code",
   "execution_count": 643,
   "metadata": {
    "collapsed": true
   },
   "outputs": [],
   "source": [
    "def check_on_families(scaler, estimator, path, thres=0.95):\n",
    "    \"\"\"\n",
    "    Вспомогательная функция для загрузки и сканирования тестовых изображений и отрисовки найденных лиц на них.\n",
    "    Изучите работу функции.\n",
    "    \"\"\"\n",
    "    families_list = glob.glob(path + \"*.*\") # получаем список имен файлов с изображениями\n",
    "    print(families_list)\n",
    "\n",
    "    for family in families_list:\n",
    "        image = cv2.imread(family, cv2.IMREAD_GRAYSCALE)\n",
    "\n",
    "#  автоматический \"Порог\" для изображений. Не работет пока\n",
    "#         image_src = cv2.imread(family, cv2.IMREAD_GRAYSCALE)\n",
    "#         thr = 200\n",
    "#         maxv = 255\n",
    "#         ret,image = cv2.threshold(image_src,thr,maxv,cv2.THRESH_BINARY_INV)\n",
    "#         image = cv2.blur(image,(25,25))\n",
    "#         plt.subplot(2,1,1),plt.imshow(image,'gray')\n",
    "#         image_draw = cv2.cvtColor(image_src, cv2.COLOR_GRAY2RGB) # создаем копию изображения, на которой будем рисовать\n",
    "        \n",
    "        image = cv2.pyrDown(image)                    # теперь в image лежит изображение\n",
    "        i = 0\n",
    "        face_boxes = []\n",
    "        for box in sliding_window(image, step=8):\n",
    "            y1, x1, y2, x2 = box                      # получаем координаты очередного окна (bbox-а)\n",
    "            bbox = image[y1:y2, x1:x2]                # \"вырезаем\" из изображения это окно\n",
    "            hog = get_hog_vector(bbox)                # подаем на вход функции, вычисляющей HOG\n",
    "            hog_tr = scaler.transform(hog)            # нормируем вектор\n",
    "            is_face = svm.predict_proba(hog_tr)[0][1] # с помощью модели предсказываем для окна \"вероятность быть лицом\"\n",
    "            if is_face > thres: \n",
    "                face_boxes.append(box)                # если вероятность выше порога, сохраняем координаты окна\n",
    "                cv2.imwrite(str(i) + '.jpg', bbox) #пишем окно в файл чтобы потом его hard-negative mining\n",
    "                i = i+1\n",
    "        \n",
    "        image_draw = cv2.cvtColor(image, cv2.COLOR_GRAY2RGB) # создаем копию изображения, на которой будем рисовать\n",
    "#         image_colored = cv2.imread(\"/srv/samba/share/data/airbus/test/color/\"+basename(fileName(family)), cv2.IMREAD_COLOR)\n",
    "        for face_box in face_boxes:\n",
    "            cv2.rectangle(image_draw, (face_box[1], face_box[0]), (face_box[3], face_box[2]), (0, 255, 0), 1)\n",
    "#             cv2.rectangle(image_colored, (face_box[1]*2, face_box[0]*2), (face_box[3]*2, face_box[2]*2), (0, 255, 0), 1)\n",
    "\n",
    "#         plt.imshow(image_draw)                               # отрисовываем результат\n",
    "#         plt.subplot(2,1,2),plt.imshow(image_draw,'gray')\n",
    "#         plt.show()\n",
    "        image_draw = cv2.putText(image_draw,'Image=' + family,(10,35),cv2.FONT_HERSHEY_SIMPLEX,1,(255,15,15))\n",
    "        image_draw = cv2.putText(image_draw,'PATH_POS='+PATH_POS,(10,70),cv2.FONT_HERSHEY_SIMPLEX,1,(255,15,15))\n",
    "        image_draw = cv2.putText(image_draw,'PATH_NEG='+PATH_NEG,(10,105),cv2.FONT_HERSHEY_SIMPLEX,1,(255,15,15))\n",
    "        image_draw = cv2.putText(image_draw,'pos_size='+str(pos_size),(10,140),cv2.FONT_HERSHEY_SIMPLEX,1,(255,15,15))\n",
    "        image_draw = cv2.putText(image_draw,'neg_size='+str(neg_size),(10,175),cv2.FONT_HERSHEY_SIMPLEX,1,(255,15,15))\n",
    "        image_draw = cv2.putText(image_draw,'svminfo='+repr(info),(10,210),cv2.FONT_HERSHEY_SIMPLEX,1,(255,15,15))\n",
    "        cv2.imwrite(os.path.splitext(basename(family))[0]+'_out.jpg', image_draw)\n",
    "        \n",
    "#         image_colored = cv2.putText(image_colored,'Image=' + family,(10,35),cv2.FONT_HERSHEY_SIMPLEX,1,(255,15,15))\n",
    "#         image_colored = cv2.putText(image_colored,'PATH_POS='+PATH_POS,(10,70),cv2.FONT_HERSHEY_SIMPLEX,1,(255,15,15))\n",
    "#         image_colored = cv2.putText(image_colored,'PATH_NEG='+PATH_NEG,(10,105),cv2.FONT_HERSHEY_SIMPLEX,1,(255,15,15))\n",
    "#         image_colored = cv2.putText(image_colored,'pos_size='+str(pos_size),(10,140),cv2.FONT_HERSHEY_SIMPLEX,1,(255,15,15))\n",
    "#         image_colored = cv2.putText(image_colored,'neg_size='+str(neg_size),(10,175),cv2.FONT_HERSHEY_SIMPLEX,1,(255,15,15))\n",
    "#         image_colored = cv2.putText(image_colored,'svminfo='+repr(info),(10,210),cv2.FONT_HERSHEY_SIMPLEX,1,(255,15,15))\n",
    "#         cv2.imwrite(os.path.splitext(basename(family))[0]+'_out_color.jpg', image_colored)"
   ]
  },
  {
   "cell_type": "code",
   "execution_count": 645,
   "metadata": {
    "scrolled": true
   },
   "outputs": [
    {
     "name": "stdout",
     "output_type": "stream",
     "text": [
      "['/srv/samba/share/data/airbus/test/color1/vko18-gr-small.jpg', '/srv/samba/share/data/airbus/test/color1/svo18-gr1-small1.jpg', '/srv/samba/share/data/airbus/test/color1/jfk18-2km.jpg', '/srv/samba/share/data/airbus/test/color1/dme18-gr1-small.jpg', '/srv/samba/share/data/airbus/test/color1/svo18-gr1-small2.jpg', '/srv/samba/share/data/airbus/test/color1/jto17-gr1-small.jpg']\n",
      "CPU times: user 1min 25s, sys: 552 ms, total: 1min 25s\n",
      "Wall time: 1min 25s\n"
     ]
    }
   ],
   "source": [
    "# plt.rcParams['figure.figsize'] = (25, 25)\n",
    "plt.rcParams['figure.figsize'] = (30, 30)\n",
    "%time check_on_families(scaler, svm, path=PATH_TEST, thres=0.65)"
   ]
  },
  {
   "cell_type": "code",
   "execution_count": null,
   "metadata": {
    "collapsed": true
   },
   "outputs": [],
   "source": [
    "\n",
    "plt.rcParams['figure.figsize'] = (25, 10)\n",
    "thr = 200\n",
    "maxv = 255\n",
    "img = cv2.imread('/srv/samba/share/data/airbus/test/small/aero-svo18_gr_small.jpg',cv2.IMREAD_GRAYSCALE) # 0\n",
    "ret,thresh1 = cv2.threshold(img,thr,maxv,cv2.THRESH_BINARY)\n",
    "ret,thresh2 = cv2.threshold(img,thr,maxv,cv2.THRESH_BINARY_INV)\n",
    "ret,thresh3 = cv2.threshold(img,thr,maxv,cv2.THRESH_TRUNC)\n",
    "ret,thresh4 = cv2.threshold(img,thr,maxv,cv2.THRESH_TOZERO)\n",
    "ret,thresh5 = cv2.threshold(img,thr,maxv,cv2.THRESH_TOZERO_INV)\n",
    "titles = ['Original Image','BINARY','BINARY_INV','TRUNC','TOZERO','TOZERO_INV']\n",
    "images = [img, thresh1, thresh2, thresh3, thresh4, thresh5]\n",
    "for i in range(6):\n",
    "    plt.subplot(2,3,i+1),plt.imshow(images[i],'gray')\n",
    "    plt.title(titles[i])\n",
    "    plt.xticks([]),plt.yticks([])\n",
    "plt.show()"
   ]
  },
  {
   "cell_type": "markdown",
   "metadata": {
    "collapsed": true
   },
   "source": [
    "##  Аугментация"
   ]
  },
  {
   "cell_type": "code",
   "execution_count": null,
   "metadata": {
    "collapsed": true
   },
   "outputs": [],
   "source": [
    "from imgaug import augmenters as iaa"
   ]
  },
  {
   "cell_type": "code",
   "execution_count": null,
   "metadata": {
    "collapsed": true
   },
   "outputs": [],
   "source": [
    "# seq = iaa.Sequential([\n",
    "#     iaa.Affine(rotate=(-45,90))\n",
    "# ])\n",
    "\n",
    "seq = iaa.Sequential([\n",
    "    iaa.SomeOf((0, 5), iaa.Affine(rotate=(-45,45)) )\n",
    "])\n"
   ]
  },
  {
   "cell_type": "code",
   "execution_count": 147,
   "metadata": {},
   "outputs": [
    {
     "name": "stdout",
     "output_type": "stream",
     "text": [
      "(128, 128, 1)\n",
      "(128, 128, 1)\n",
      "(128, 128)\n"
     ]
    }
   ],
   "source": [
    "img = cv2.imread('/srv/samba/share/data/airbus/train/test-aug.jpg',cv2.IMREAD_GRAYSCALE)\n",
    "# print(img)\n",
    "# print(img.size)\n",
    "# print(img.shape)\n",
    "imgList = np.asarray(img).reshape(128,128,1) # Grayscale images must have shape (height, width, 1) each.\n",
    "# print(imgList)\n",
    "# print(imgList.size)\n",
    "print(imgList.shape)\n",
    "img_aug = seq.augment_image(imgList)\n",
    "# print(img_aug)\n",
    "print(img_aug.shape)\n",
    "img_aug = np.asarray(img_aug).reshape(128,128)\n",
    "print(img_aug.shape)"
   ]
  },
  {
   "cell_type": "code",
   "execution_count": 148,
   "metadata": {},
   "outputs": [
    {
     "name": "stderr",
     "output_type": "stream",
     "text": [
      "/usr/local/lib/python3.5/dist-packages/matplotlib/font_manager.py:1297: UserWarning: findfont: Font family ['sans-serif'] not found. Falling back to DejaVu Sans\n",
      "  (prop.get_family(), self.defaultFamily[fontext]))\n"
     ]
    },
    {
     "data": {
      "image/png": "[encoded data removed]",
      "text/plain": [
       "<matplotlib.figure.Figure at 0x7ff33df85e80>"
      ]
     },
     "metadata": {},
     "output_type": "display_data"
    }
   ],
   "source": [
    "plt.subplot(1,2,1), plt.imshow(img)\n",
    "plt.subplot(1,2,2), plt.imshow(img_aug)\n",
    "plt.show()"
   ]
  },
  {
   "cell_type": "code",
   "execution_count": 125,
   "metadata": {},
   "outputs": [
    {
     "ename": "RuntimeError",
     "evalue": "Could not execute image viewer.",
     "output_type": "error",
     "traceback": [
      "\u001b[0;31m---------------------------------------------------------------------------\u001b[0m",
      "\u001b[0;31mRuntimeError\u001b[0m                              Traceback (most recent call last)",
      "\u001b[0;32m<ipython-input-125-b9e30c4c372d>\u001b[0m in \u001b[0;36m<module>\u001b[0;34m()\u001b[0m\n\u001b[0;32m----> 1\u001b[0;31m \u001b[0mseq\u001b[0m\u001b[0;34m.\u001b[0m\u001b[0mshow_grid\u001b[0m\u001b[0;34m(\u001b[0m\u001b[0mimg_aug\u001b[0m\u001b[0;34m,\u001b[0m \u001b[0mcols\u001b[0m\u001b[0;34m=\u001b[0m\u001b[0;36m8\u001b[0m\u001b[0;34m,\u001b[0m \u001b[0mrows\u001b[0m\u001b[0;34m=\u001b[0m\u001b[0;36m8\u001b[0m\u001b[0;34m)\u001b[0m\u001b[0;34m\u001b[0m\u001b[0m\n\u001b[0m",
      "\u001b[0;32m~/.local/lib/python3.5/site-packages/imgaug/augmenters.py\u001b[0m in \u001b[0;36mshow_grid\u001b[0;34m(self, images, rows, cols)\u001b[0m\n\u001b[1;32m    543\u001b[0m         \"\"\"\n\u001b[1;32m    544\u001b[0m         \u001b[0mgrid\u001b[0m \u001b[0;34m=\u001b[0m \u001b[0mself\u001b[0m\u001b[0;34m.\u001b[0m\u001b[0mdraw_grid\u001b[0m\u001b[0;34m(\u001b[0m\u001b[0mimages\u001b[0m\u001b[0;34m,\u001b[0m \u001b[0mrows\u001b[0m\u001b[0;34m,\u001b[0m \u001b[0mcols\u001b[0m\u001b[0;34m)\u001b[0m\u001b[0;34m\u001b[0m\u001b[0m\n\u001b[0;32m--> 545\u001b[0;31m         \u001b[0mmisc\u001b[0m\u001b[0;34m.\u001b[0m\u001b[0mimshow\u001b[0m\u001b[0;34m(\u001b[0m\u001b[0mgrid\u001b[0m\u001b[0;34m)\u001b[0m\u001b[0;34m\u001b[0m\u001b[0m\n\u001b[0m\u001b[1;32m    546\u001b[0m \u001b[0;34m\u001b[0m\u001b[0m\n\u001b[1;32m    547\u001b[0m     \u001b[0;32mdef\u001b[0m \u001b[0mto_deterministic\u001b[0m\u001b[0;34m(\u001b[0m\u001b[0mself\u001b[0m\u001b[0;34m,\u001b[0m \u001b[0mn\u001b[0m\u001b[0;34m=\u001b[0m\u001b[0;32mNone\u001b[0m\u001b[0;34m)\u001b[0m\u001b[0;34m:\u001b[0m\u001b[0;34m\u001b[0m\u001b[0m\n",
      "\u001b[0;32m/usr/local/lib/python3.5/dist-packages/scipy/misc/pilutil.py\u001b[0m in \u001b[0;36mimshow\u001b[0;34m(arr)\u001b[0m\n\u001b[1;32m    443\u001b[0m     \u001b[0mos\u001b[0m\u001b[0;34m.\u001b[0m\u001b[0munlink\u001b[0m\u001b[0;34m(\u001b[0m\u001b[0mfname\u001b[0m\u001b[0;34m)\u001b[0m\u001b[0;34m\u001b[0m\u001b[0m\n\u001b[1;32m    444\u001b[0m     \u001b[0;32mif\u001b[0m \u001b[0mstatus\u001b[0m \u001b[0;34m!=\u001b[0m \u001b[0;36m0\u001b[0m\u001b[0;34m:\u001b[0m\u001b[0;34m\u001b[0m\u001b[0m\n\u001b[0;32m--> 445\u001b[0;31m         \u001b[0;32mraise\u001b[0m \u001b[0mRuntimeError\u001b[0m\u001b[0;34m(\u001b[0m\u001b[0;34m'Could not execute image viewer.'\u001b[0m\u001b[0;34m)\u001b[0m\u001b[0;34m\u001b[0m\u001b[0m\n\u001b[0m\u001b[1;32m    446\u001b[0m \u001b[0;34m\u001b[0m\u001b[0m\n\u001b[1;32m    447\u001b[0m \u001b[0;34m\u001b[0m\u001b[0m\n",
      "\u001b[0;31mRuntimeError\u001b[0m: Could not execute image viewer."
     ]
    }
   ],
   "source": [
    "seq.show_grid(img, cols=8, rows=8)"
   ]
  },
  {
   "cell_type": "code",
   "execution_count": 66,
   "metadata": {},
   "outputs": [
    {
     "name": "stdout",
     "output_type": "stream",
     "text": [
      "<built-in method ravel of numpy.ndarray object at 0x7ff33fda1670>\n"
     ]
    },
    {
     "data": {
      "text/plain": [
       "array([153, 159, 160, ..., 161, 150, 140], dtype=uint8)"
      ]
     },
     "execution_count": 66,
     "metadata": {},
     "output_type": "execute_result"
    }
   ],
   "source": []
  },
  {
   "cell_type": "code",
   "execution_count": null,
   "metadata": {
    "collapsed": true
   },
   "outputs": [],
   "source": []
  },
  {
   "cell_type": "code",
   "execution_count": null,
   "metadata": {
    "collapsed": true
   },
   "outputs": [],
   "source": []
  }
 ],
 "metadata": {
  "kernelspec": {
   "display_name": "Python 3",
   "language": "python",
   "name": "python3"
  },
  "language_info": {
   "codemirror_mode": {
    "name": "ipython",
    "version": 3
   },
   "file_extension": ".py",
   "mimetype": "text/x-python",
   "name": "python",
   "nbconvert_exporter": "python",
   "pygments_lexer": "ipython3",
   "version": "3.7.9"
  },
  "toc": {
   "base_numbering": 1,
   "nav_menu": {},
   "number_sections": true,
   "sideBar": true,
   "skip_h1_title": false,
   "title_cell": "Table of Contents",
   "title_sidebar": "Contents",
   "toc_cell": false,
   "toc_position": {},
   "toc_section_display": true,
   "toc_window_display": false
  },
  "varInspector": {
   "cols": {
    "lenName": 16,
    "lenType": 16,
    "lenVar": 40
   },
   "kernels_config": {
    "python": {
     "delete_cmd_postfix": "",
     "delete_cmd_prefix": "del ",
     "library": "var_list.py",
     "varRefreshCmd": "print(var_dic_list())"
    },
    "r": {
     "delete_cmd_postfix": ") ",
     "delete_cmd_prefix": "rm(",
     "library": "var_list.r",
     "varRefreshCmd": "cat(var_dic_list()) "
    }
   },
   "types_to_exclude": [
    "module",
    "function",
    "builtin_function_or_method",
    "instance",
    "_Feature"
   ],
   "window_display": false
  }
 },
 "nbformat": 4,
 "nbformat_minor": 2
}
