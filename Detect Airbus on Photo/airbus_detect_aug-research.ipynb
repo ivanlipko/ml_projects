{
 "cells": [
  {
   "cell_type": "code",
   "execution_count": 10,
   "metadata": {
    "collapsed": true
   },
   "outputs": [],
   "source": [
    "# модуль библиотеки OpenCV для работы с изображениями\n",
    "import cv2\n",
    "\n",
    "# всякие полезные библиотеки для работы с матрицами / отрисовки / etc.\n",
    "import glob\n",
    "import tqdm\n",
    "import numpy as np\n",
    "import matplotlib.pyplot as plt\n",
    "import seaborn as sns\n",
    "%matplotlib inline\n",
    "\n",
    "plt.rcParams['figure.figsize'] = (12, 5)\n",
    "sns.set_style(\"white\")\n",
    "\n",
    "import os\n",
    "from os.path import basename # чтобы достать имя файла из пути\n",
    "\n",
    "from imgaug import augmenters as iaa"
   ]
  },
  {
   "cell_type": "markdown",
   "metadata": {},
   "source": [
    "Самолёты я беру из следующих аэропортов:\n",
    "\n",
    "vko18-gr-small.jpg\n",
    "\n",
    "jto17-gr1-small.jpg\n",
    "\n",
    "dme18-gr1-small.jpg.\n",
    "\n",
    "Т.к. будет аугментация (поворот), то надо брать изображение, где самолёт далеко от краёв, чтобы оно влезло"
   ]
  },
  {
   "cell_type": "markdown",
   "metadata": {},
   "source": [
    "# Подбираем параметры порогового фильтра"
   ]
  },
  {
   "cell_type": "markdown",
   "metadata": {},
   "source": [
    "Берём серые картинки и смотрим что будет при разных параметрах фильтра."
   ]
  },
  {
   "cell_type": "code",
   "execution_count": null,
   "metadata": {
    "collapsed": true
   },
   "outputs": [],
   "source": [
    "PATH_THR = \"/srv/samba/share/data/airbus/train/12/\"\n",
    "families_list = glob.glob(PATH_THR + \"*.*\") # получаем список имен файлов с изображениями\n",
    "print(families_list)"
   ]
  },
  {
   "cell_type": "markdown",
   "metadata": {},
   "source": [
    "Разбираюсь, как работает thresholding in OpenCV http://www.learnopencv.com/opencv-threshold-python-cpp/, и http://robocraft.ru/blog/computervision/357.html"
   ]
  },
  {
   "cell_type": "code",
   "execution_count": null,
   "metadata": {
    "collapsed": true
   },
   "outputs": [],
   "source": [
    "PATH_TEST_IMG = '/srv/samba/share/data/airbus/train/12/1.jpg'\n",
    "img = cv2.imread(PATH_TEST_IMG,cv2.IMREAD_GRAYSCALE)"
   ]
  },
  {
   "cell_type": "code",
   "execution_count": null,
   "metadata": {
    "collapsed": true
   },
   "outputs": [],
   "source": [
    "def threshold_test(img, thr, maxv, filename='none'):\n",
    "    ret,thresh = cv2.threshold(img,thr,maxv,cv2.THRESH_BINARY_INV)\n",
    "    titles = ['Original Image '+filename,'BINARY_INV', 'BINARY']\n",
    "    images = [img, thresh]\n",
    "    for i in range(2):\n",
    "        plt.subplot(1,3,i+1), plt.imshow(images[i])\n",
    "        plt.title(titles[i])\n",
    "        plt.xticks([]), plt.yticks([])\n",
    "    plt.subplot(1,3,3),plt.hist(images[0].ravel(),256)\n",
    "    plt.title('Hist')\n",
    "    plt.show()\n",
    "#     return thresh"
   ]
  },
  {
   "cell_type": "code",
   "execution_count": null,
   "metadata": {
    "collapsed": true
   },
   "outputs": [],
   "source": [
    "plt.rcParams['figure.figsize'] = (10, 2)\n",
    "thr = 190\n",
    "maxv = 250\n",
    "threshold_test(img, 190, 250, basename(PATH_TEST_IMG))"
   ]
  },
  {
   "cell_type": "code",
   "execution_count": null,
   "metadata": {
    "collapsed": true
   },
   "outputs": [],
   "source": [
    "j = 0\n",
    "for family in families_list:\n",
    "    j += 1\n",
    "    if j<20:\n",
    "        continue\n",
    "    if j>30:\n",
    "        break\n",
    "    print('j='+str(j)+' ------------------------------------------------------------------------------------')\n",
    "    img = cv2.imread(family,cv2.IMREAD_GRAYSCALE)\n",
    "    for thr in range(200,250,25):\n",
    "        print('thr='+str(thr)+', maxv='+str(maxv))\n",
    "        \n",
    "        threshold_test(img, thr, maxv, basename(family))\n",
    "    "
   ]
  },
  {
   "cell_type": "markdown",
   "metadata": {},
   "source": [
    "Видим, что для большинства самолётов подходят параметры threshold = 175, 200, 235.\n",
    "\n",
    "Остались ли изображения ещё - не знаю. На всякий случй сделал двойное фильтрование с порогом сверху."
   ]
  },
  {
   "cell_type": "code",
   "execution_count": null,
   "metadata": {
    "collapsed": true
   },
   "outputs": [],
   "source": [
    "PATH_TEST_IMG = '/srv/samba/share/data/airbus/train/12/1.jpg'\n",
    "img = cv2.imread(PATH_TEST_IMG,cv2.IMREAD_GRAYSCALE)"
   ]
  },
  {
   "cell_type": "code",
   "execution_count": null,
   "metadata": {
    "collapsed": true
   },
   "outputs": [],
   "source": [
    "def threshold_test_diap(img, thr_min, thr_max, maxv, filename='none'):\n",
    "    ret,thresh = cv2.threshold(img,thr_max,maxv,cv2.THRESH_TRUNC)\n",
    "    ret,thresh = cv2.threshold(thresh,thr_min,maxv,cv2.THRESH_BINARY)\n",
    "    titles = ['Original Image '+filename,'BINARY_INV', 'BINARY']\n",
    "    images = [img, thresh]\n",
    "    for i in range(2):\n",
    "        plt.subplot(1,3,i+1), plt.imshow(images[i])\n",
    "        plt.title(titles[i])\n",
    "        plt.xticks([]), plt.yticks([])\n",
    "    plt.subplot(1,3,3),plt.hist(images[0].ravel(),256)\n",
    "    plt.title('Hist')\n",
    "    plt.show()"
   ]
  },
  {
   "cell_type": "code",
   "execution_count": null,
   "metadata": {
    "collapsed": true
   },
   "outputs": [],
   "source": [
    "plt.rcParams['figure.figsize'] = (10, 2)\n",
    "thr_min = 100\n",
    "thr_max = 200\n",
    "threshold_test_diap(img, thr_min, thr_max, 255, basename(PATH_TEST_IMG))"
   ]
  },
  {
   "cell_type": "code",
   "execution_count": null,
   "metadata": {
    "collapsed": true
   },
   "outputs": [],
   "source": [
    "j = 0\n",
    "for family in families_list:\n",
    "    j += 1\n",
    "#     if j in [8,9,10, 11,12,19]:\n",
    "    if j in [8,9,10, 11,12,19]:\n",
    "        print('j='+str(j)+' ------------------------------------------------------------------------------------')\n",
    "        img = cv2.imread(family,cv2.IMREAD_GRAYSCALE)\n",
    "        for thr in range(225,251,10):\n",
    "            print('thr='+str(thr)+', maxv='+str(maxv))\n",
    "#             threshold_test_diap(img, 100, thr, maxv, basename(family))\n",
    "            threshold_test(img, thr, maxv, basename(family))\n",
    "    "
   ]
  },
  {
   "cell_type": "markdown",
   "metadata": {},
   "source": [
    "### Проверяем эти фильтры на трейновых изображениях\n",
    "\n"
   ]
  },
  {
   "cell_type": "code",
   "execution_count": null,
   "metadata": {
    "collapsed": true
   },
   "outputs": [],
   "source": [
    "PATH_TESTTHR = \"/srv/samba/share/data/airbus/test/color/\"\n",
    "families_list = glob.glob(PATH_TESTTHR + \"*.*\") # получаем список имен файлов с изображениями"
   ]
  },
  {
   "cell_type": "code",
   "execution_count": null,
   "metadata": {
    "collapsed": true
   },
   "outputs": [],
   "source": [
    "plt.rcParams['figure.figsize'] = (15, 2)\n",
    "maxv = 255\n",
    "j = 0\n",
    "for family in families_list:\n",
    "    j += 1\n",
    "#     if j<0:\n",
    "#         continue\n",
    "    if j>1:\n",
    "        break\n",
    "    print('j='+str(j)+' ------------------------------------------------------------------------------------')\n",
    "    img = cv2.imread(family,cv2.IMREAD_GRAYSCALE)\n",
    "    for thr in [175, 200, 235]:\n",
    "        print('thr='+str(thr)+', maxv='+str(maxv))        \n",
    "        threshold_test(img, thr, maxv, basename(family))"
   ]
  },
  {
   "cell_type": "markdown",
   "metadata": {},
   "source": [
    "Проверим на большом изображении"
   ]
  },
  {
   "cell_type": "code",
   "execution_count": null,
   "metadata": {
    "collapsed": true
   },
   "outputs": [],
   "source": [
    "PATH_TESTTHR = \"/srv/samba/share/data/airbus/test/color/1/\"\n",
    "families_list = glob.glob(PATH_TESTTHR + \"*.*\") # получаем список имен файлов с изображениями\n",
    "print(families_list)\n",
    "family = families_list[0]\n",
    "img = cv2.imread(family,cv2.IMREAD_GRAYSCALE)\n",
    "del family"
   ]
  },
  {
   "cell_type": "code",
   "execution_count": null,
   "metadata": {
    "collapsed": true
   },
   "outputs": [],
   "source": [
    "plt.rcParams['figure.figsize'] = (30, 30)\n",
    "thr=175\n",
    "maxv = 255\n",
    "\n",
    "ret,thresh = cv2.threshold(img,thr,maxv,cv2.THRESH_BINARY)\n",
    "plt.imshow(thresh)\n",
    "plt.xticks([]), plt.yticks([])\n",
    "plt.show()"
   ]
  },
  {
   "cell_type": "markdown",
   "metadata": {},
   "source": [
    "### Логика работы"
   ]
  },
  {
   "cell_type": "markdown",
   "metadata": {},
   "source": [
    "Теперь понятна логика работы алгоритма. \n",
    "1. Загружаем исходное изображение и применяем 3 раза пороговую фильтацию с разными значениями порога. Сохраняем эти изображения\n",
    "2. На полученных изображениях проверяем наш ХОГ\n",
    "3. Везде, где превышен ПОРОГ алгоритма мы отмечаем окно\n",
    "4. Сохраняем окна"
   ]
  },
  {
   "cell_type": "markdown",
   "metadata": {},
   "source": [
    "### Теперь разберёмся с аугментацией"
   ]
  },
  {
   "cell_type": "code",
   "execution_count": null,
   "metadata": {
    "collapsed": true
   },
   "outputs": [],
   "source": [
    "seq = iaa.Sequential([\n",
    "    iaa.Affine(rotate=(45) )\n",
    "])\n",
    "\n",
    "# seq = iaa.Sequential([\n",
    "#     iaa.SomeOf((0, 5), iaa.Affine(rotate=(-45,45)) )\n",
    "# ])\n"
   ]
  },
  {
   "cell_type": "code",
   "execution_count": null,
   "metadata": {
    "collapsed": true
   },
   "outputs": [],
   "source": [
    "img = cv2.imread('/srv/samba/share/data/airbus/train/test-aug.jpg',cv2.IMREAD_GRAYSCALE)\n",
    "# print(img)\n",
    "# print(img.size)\n",
    "# print(img.shape)\n",
    "imgList = np.asarray(img).reshape(128,128,1) # Grayscale images must have shape (height, width, 1) each.\n",
    "# imgList = [imgList, imgList, imgList]\n",
    "# print(imgList)\n",
    "# print(imgList.size)\n",
    "# print(imgList.shape)\n",
    "img_aug = seq.augment_image(imgList)\n",
    "# print(img_aug)\n",
    "# print(img_aug.shape)\n",
    "img_aug = np.asarray(img_aug).reshape(128,128)\n",
    "# print(img_aug.shape)"
   ]
  },
  {
   "cell_type": "code",
   "execution_count": null,
   "metadata": {
    "collapsed": true
   },
   "outputs": [],
   "source": [
    "np.asarray(img_aug[3]).reshape(128,128)"
   ]
  },
  {
   "cell_type": "code",
   "execution_count": null,
   "metadata": {
    "collapsed": true
   },
   "outputs": [],
   "source": [
    "plt.subplot(1,2,1), plt.imshow(img)\n",
    "plt.subplot(1,2,2), plt.imshow(img_aug)\n",
    "plt.show()"
   ]
  },
  {
   "cell_type": "code",
   "execution_count": null,
   "metadata": {
    "collapsed": true
   },
   "outputs": [],
   "source": [
    "seq.show_grid(img, cols=8, rows=8)"
   ]
  },
  {
   "cell_type": "code",
   "execution_count": null,
   "metadata": {
    "collapsed": true
   },
   "outputs": [],
   "source": []
  },
  {
   "cell_type": "code",
   "execution_count": null,
   "metadata": {
    "collapsed": true
   },
   "outputs": [],
   "source": []
  },
  {
   "cell_type": "code",
   "execution_count": null,
   "metadata": {
    "collapsed": true
   },
   "outputs": [],
   "source": []
  },
  {
   "cell_type": "code",
   "execution_count": null,
   "metadata": {
    "collapsed": true
   },
   "outputs": [],
   "source": []
  },
  {
   "cell_type": "markdown",
   "metadata": {},
   "source": [
    "# 1. Подгружаем данные, смотрим на них"
   ]
  },
  {
   "cell_type": "code",
   "execution_count": 52,
   "metadata": {
    "collapsed": true
   },
   "outputs": [],
   "source": [
    "pos_size = 384\n",
    "neg_size = 539 # Будет лучше, если положительных и отрицательных примеров будет поровну\n",
    "PATH_POS = \"/srv/samba/share/data/airbus/train/16/\"\n",
    "# 11 = 57\n",
    "# 12 = 30 <---\n",
    "# 13 = 97\n",
    "# 14 = 101\n",
    "# 15 = 720\n",
    "# 16 = 384\n",
    "\n",
    "PATH_NEG = \"/srv/samba/share/data/airbus/fail/14/\"\n",
    "# 11 = 40 <---\n",
    "# 12 = 960\n",
    "# 13 = 539\n",
    "# 14 = 4292"
   ]
  },
  {
   "cell_type": "markdown",
   "metadata": {},
   "source": [
    "### обучающая выборка, самолёты"
   ]
  },
  {
   "cell_type": "markdown",
   "metadata": {},
   "source": [
    " По идее ОБРЕЗАНИЕ (image = cv2.resize(cv2.imread(name, cv2.IMREAD_GRAYSCALE), (64, 64))) не надо делать, потому что потом надо делать аугментацию. Лучше это сделать после аугментации"
   ]
  },
  {
   "cell_type": "code",
   "execution_count": 39,
   "metadata": {
    "collapsed": true
   },
   "outputs": [],
   "source": [
    "def read_faces(path, number):\n",
    "    \"\"\"\n",
    "    Функция для загрузки изображений из папки по пути path.\n",
    "    \"\"\"\n",
    "    names = glob.glob(path + \"*.*\")\n",
    "    data = []\n",
    "    for name in tqdm.tqdm_notebook(names[:number]):\n",
    "#         image = cv2.resize(cv2.imread(name, cv2.IMREAD_GRAYSCALE), (64, 64))\n",
    "        image = cv2.imread(name, cv2.IMREAD_GRAYSCALE)\n",
    "        data.append(image)\n",
    "\n",
    "    return np.array(data)"
   ]
  },
  {
   "cell_type": "code",
   "execution_count": null,
   "metadata": {
    "collapsed": true
   },
   "outputs": [],
   "source": [
    "# с аугментацией\n",
    "def read_faces(path, number):\n",
    "    \"\"\"\n",
    "    Функция для загрузки изображений из папки по пути path.\n",
    "    \"\"\"\n",
    "    names = glob.glob(path + \"*.*\")\n",
    "    data = []\n",
    "    maxv = 255\n",
    "    \n",
    "    for name in tqdm.tqdm_notebook(names[:number]):\n",
    "#         image = cv2.resize(cv2.imread(name, cv2.IMREAD_GRAYSCALE), (64, 64))\n",
    "        image = cv2.imread(name, cv2.IMREAD_GRAYSCALE)\n",
    "#         data.append(cv2.pyrUp(image[25:90, 32:100])) # обрезаем картинку.\n",
    "#         data.append(image)\n",
    "\n",
    "        # применяем фильтр\n",
    "#         x1,x2, y1,y2 = 0,128, 0,128\n",
    "        x1,x2, y1,y2 = 20,100, 20,100\n",
    "        size = (64, 64)\n",
    "        angle_from, angle_to, angle_step = 0, 360, 45\n",
    "        \n",
    "        image6464 = np.asarray(image).reshape(128,128,1) # (height, width, 1)\n",
    "        for angle in range(angle_from,angle_to, angle_step):\n",
    "            seq = iaa.Sequential([ iaa.Affine(rotate=angle) ])\n",
    "            img_aug = seq.augment_image(image6464)\n",
    "            img_aug = np.asarray(img_aug).reshape(128,128)\n",
    "\n",
    "            ret,thresh = cv2.threshold(img_aug[x1:x2, y1:y2],175,maxv,cv2.THRESH_BINARY_INV)\n",
    "            data.append(cv2.resize(thresh, size))\n",
    "            ret,thresh = cv2.threshold(img_aug[x1:x2, y1:y2],200,maxv,cv2.THRESH_BINARY_INV)\n",
    "            data.append(cv2.resize(thresh, size))\n",
    "            ret,thresh = cv2.threshold(img_aug[x1:x2, y1:y2],235,maxv,cv2.THRESH_BINARY_INV)\n",
    "            data.append(cv2.resize(thresh, size))\n",
    "            \n",
    "#         plt.rcParams['figure.figsize'] = (20, 20)\n",
    "#         for i in range(1,len(data)):\n",
    "#             plt.subplot(5,5,i), plt.imshow(data[i])\n",
    "#         plt.subplot(5,5,len(data)), plt.imshow(image)\n",
    "#         plt.show\n",
    "\n",
    "    return np.array(data)"
   ]
  },
  {
   "cell_type": "code",
   "execution_count": 40,
   "metadata": {},
   "outputs": [
    {
     "data": {
      "application/vnd.jupyter.widget-view+json": {
       "model_id": "5a1f476ec0914656bad09266c785c77a"
      }
     },
     "metadata": {},
     "output_type": "display_data"
    },
    {
     "name": "stdout",
     "output_type": "stream",
     "text": [
      "\n",
      "Read 384 images, \n",
      "data_pos shape is (384, 64, 64), \n",
      "labels_pos shape is (384, 1)\n"
     ]
    }
   ],
   "source": [
    "data_pos = read_faces(path=PATH_POS, number=pos_size) # получим np.array с N_FACES изображениями лиц размера (64, 64)\n",
    "labels_pos = np.ones(shape=(len(data_pos), 1)) # np.array c единичками \n",
    "print(\"Read %d images, \\ndata_pos shape is %s, \\nlabels_pos shape is %s\" % (pos_size, data_pos.shape, labels_pos.shape))"
   ]
  },
  {
   "cell_type": "code",
   "execution_count": null,
   "metadata": {
    "collapsed": true
   },
   "outputs": [],
   "source": [
    "def show_random_images(data, size = 5):\n",
    "    \"\"\"\n",
    "    Функция для отрисовки size x size случайных изображений из data.\n",
    "    \"\"\"\n",
    "    random_idxs = np.random.randint(0, len(data), size ** 2)\n",
    "    \n",
    "    plt.figure(figsize=(12 ,5))\n",
    "    for i in range(size):\n",
    "        for j in range(size):\n",
    "            \n",
    "            num = i * size + j\n",
    "            plt.subplot(size, size, num + 1)\n",
    "            pic = cv2.resize(data[num], (64, 64))\n",
    "            pic = data[num]\n",
    "            plt.imshow(pic, cmap='gray')\n",
    "            plt.axis('off')\n",
    "    \n",
    "    plt.show()"
   ]
  },
  {
   "cell_type": "code",
   "execution_count": null,
   "metadata": {
    "collapsed": true
   },
   "outputs": [],
   "source": [
    "# print(data_pos[0])\n",
    "# print( cv2.resize(data_pos[0],(64,64)) )\n",
    "\n",
    "plt.subplot(1,2,1), plt.imshow(data_pos[0])\n",
    "# plt.subplot(1,2,2), plt.imshow(cv2.resize(data_pos[0][20:100,20:100] ,(64,64)))\n",
    "# plt.subplot(1,2,2), plt.imshow( data_pos[0][20:100,20:100] )\n",
    "plt.show\n",
    "# print( len(data_pos[0][20:84,20:84]) )"
   ]
  },
  {
   "cell_type": "code",
   "execution_count": null,
   "metadata": {
    "collapsed": true,
    "scrolled": true
   },
   "outputs": [],
   "source": [
    "show_random_images(data_pos, size=4)"
   ]
  },
  {
   "cell_type": "code",
   "execution_count": null,
   "metadata": {
    "collapsed": true
   },
   "outputs": [],
   "source": [
    "# сохраняем выборку на диск\n",
    "i = 0\n",
    "for item in data_pos:\n",
    "    cv2.imwrite('faces/'+str(i)+'.jpg',item)\n",
    "    i += 1"
   ]
  },
  {
   "cell_type": "markdown",
   "metadata": {},
   "source": [
    "### обучающая выборка, фоны"
   ]
  },
  {
   "cell_type": "code",
   "execution_count": 41,
   "metadata": {
    "collapsed": true
   },
   "outputs": [],
   "source": [
    "def read_backgrounds(path, number):\n",
    "    names = glob.glob(path + \"*.*\")\n",
    "    data = []\n",
    "    for name in tqdm.tqdm_notebook(names[:number]):\n",
    "        image = cv2.resize(cv2.imread(name, cv2.IMREAD_GRAYSCALE), (64, 64))\n",
    "#         image = cv2.imread(name, cv2.IMREAD_GRAYSCALE)\n",
    "        data.append(image)\n",
    "    return np.array(data)"
   ]
  },
  {
   "cell_type": "code",
   "execution_count": null,
   "metadata": {
    "collapsed": true
   },
   "outputs": [],
   "source": [
    "def read_backgrounds(path, number):\n",
    "    names = glob.glob(path + \"*.*\")\n",
    "    data = []\n",
    "    maxv = 255\n",
    "    for name in tqdm.tqdm_notebook(names[:number]):\n",
    "#         image = cv2.resize(cv2.imread(name, cv2.IMREAD_GRAYSCALE), (64, 64))\n",
    "        image = cv2.imread(name, cv2.IMREAD_GRAYSCALE)\n",
    "#         data.append(cv2.pyrUp(image[25:90, 32:100])) # обрезаем картинку.\n",
    "#         data.append(image)\n",
    "\n",
    "        # применяем фильтр\n",
    "#         x1,x2, y1,y2 = 0,128, 0,128\n",
    "        x1,x2, y1,y2 = 20,100, 20,100\n",
    "        size = (64, 64)\n",
    "        angle_from, angle_to, angle_step = 0, 360, 45\n",
    "        \n",
    "        image6464 = np.asarray(image).reshape(128,128,1) # (height, width, 1)\n",
    "        for angle in range(angle_from,angle_to, angle_step):\n",
    "            seq = iaa.Sequential([ iaa.Affine(rotate=angle) ])\n",
    "            img_aug = seq.augment_image(image6464)\n",
    "            img_aug = np.asarray(img_aug).reshape(128,128)\n",
    "\n",
    "            ret,thresh = cv2.threshold(img_aug[x1:x2, y1:y2],175,maxv,cv2.THRESH_BINARY_INV)\n",
    "            data.append(cv2.resize(thresh, size))\n",
    "            ret,thresh = cv2.threshold(img_aug[x1:x2, y1:y2],200,maxv,cv2.THRESH_BINARY_INV)\n",
    "            data.append(cv2.resize(thresh, size))\n",
    "            ret,thresh = cv2.threshold(img_aug[x1:x2, y1:y2],235,maxv,cv2.THRESH_BINARY_INV)\n",
    "            data.append(cv2.resize(thresh, size))\n",
    "\n",
    "#         plt.rcParams['figure.figsize'] = (5, 5)\n",
    "#         plt.imshow(data[3])\n",
    "#         plt.show\n",
    "#         break\n",
    "    return np.array(data)"
   ]
  },
  {
   "cell_type": "code",
   "execution_count": 42,
   "metadata": {},
   "outputs": [
    {
     "data": {
      "application/vnd.jupyter.widget-view+json": {
       "model_id": "3cf52ae4f1fa4680b60c64a296646b5d"
      }
     },
     "metadata": {},
     "output_type": "display_data"
    },
    {
     "name": "stdout",
     "output_type": "stream",
     "text": [
      "\n",
      "Read 539 images, \n",
      "data_neg shape is (539, 64, 64), \n",
      "labels_neg shape is (539, 1)\n"
     ]
    }
   ],
   "source": [
    "data_neg = read_backgrounds(path=PATH_NEG, number=neg_size)\n",
    "labels_neg = np.zeros((len(data_neg), 1)) # np.array с нулями\n",
    "print(\"Read %d images, \\ndata_neg shape is %s, \\nlabels_neg shape is %s\" % (neg_size, data_neg.shape, labels_neg.shape))\n",
    "\n",
    "# for one iamge we make (angle_to-angle_from)/angle_step + \"1 original\"  images\n",
    "# size of out must be  [(angle_to-angle_from)/angle_step + \"1 original\" ]* \"count of images\"\n",
    "# so [(360-45)/45 + 1] * 40 = 960"
   ]
  },
  {
   "cell_type": "code",
   "execution_count": null,
   "metadata": {
    "collapsed": true
   },
   "outputs": [],
   "source": [
    "show_random_images(data_neg, size=4)"
   ]
  },
  {
   "cell_type": "code",
   "execution_count": null,
   "metadata": {
    "collapsed": true
   },
   "outputs": [],
   "source": [
    "# сохраняем выборку на диск\n",
    "i = 0\n",
    "for item in data_neg:\n",
    "    cv2.imwrite('faces/'+str(i)+'.jpg',item)\n",
    "    i += 1"
   ]
  },
  {
   "cell_type": "markdown",
   "metadata": {},
   "source": [
    "#  Аугментация для произвольных изображений"
   ]
  },
  {
   "cell_type": "code",
   "execution_count": 19,
   "metadata": {
    "collapsed": true
   },
   "outputs": [],
   "source": [
    "def read_faces(path):\n",
    "    \"\"\"\n",
    "    Функция для загрузки изображений из папки по пути path.\n",
    "    \"\"\"\n",
    "    names = glob.glob(path + \"*.*\")\n",
    "    data = []\n",
    "    maxv = 255\n",
    "    \n",
    "    for name in tqdm.tqdm_notebook(names):\n",
    "        image = cv2.resize(cv2.imread(name, cv2.IMREAD_GRAYSCALE), (64, 64))\n",
    "#         image = cv2.imread(name, cv2.IMREAD_GRAYSCALE)\n",
    "\n",
    "        # применяем фильтр\n",
    "#         x1,x2, y1,y2 = 0,128, 0,128\n",
    "        size = (64, 64)\n",
    "        angle_from, angle_to, angle_step = 0, 360, 45\n",
    "        \n",
    "        i=0\n",
    "        image6464 = np.asarray(image).reshape(64,64,1) # (height, width, 1)\n",
    "        for angle in range(angle_from,angle_to, angle_step):\n",
    "            seq = iaa.Sequential([ iaa.Affine(rotate=angle) ])\n",
    "            img_aug = seq.augment_image(image6464)\n",
    "            img_aug = np.asarray(img_aug).reshape(64,64)\n",
    "\n",
    "            cv2.imwrite('faces_aug/'+name.split('/')[-1]+str(i)+'.jpg', (cv2.resize(img_aug, size)) )\n",
    "            print('faces_aug/'+name.split('/')[-1]+str(i)+'.jpg')\n",
    "            i+=1\n",
    "            \n",
    "#         plt.rcParams['figure.figsize'] = (20, 20)\n",
    "#         for i in range(1,len(data)):\n",
    "#             plt.subplot(5,5,i), plt.imshow(data[i])\n",
    "#         plt.subplot(5,5,len(data)), plt.imshow(image)\n",
    "#         plt.show\n",
    "\n",
    "    return np.array(data)"
   ]
  },
  {
   "cell_type": "code",
   "execution_count": 20,
   "metadata": {},
   "outputs": [
    {
     "name": "stderr",
     "output_type": "stream",
     "text": [
      "Widget Javascript not detected.  It may not be installed or enabled properly.\n"
     ]
    },
    {
     "data": {
      "application/vnd.jupyter.widget-view+json": {
       "model_id": "0bbc62d08d554229bbb28babbe69892d"
      }
     },
     "metadata": {},
     "output_type": "display_data"
    },
    {
     "name": "stdout",
     "output_type": "stream",
     "text": [
      "faces_aug/10_2.jpg0.jpg\n",
      "faces_aug/10_2.jpg1.jpg\n",
      "faces_aug/10_2.jpg2.jpg\n",
      "faces_aug/10_2.jpg3.jpg\n",
      "faces_aug/10_2.jpg4.jpg\n",
      "faces_aug/10_2.jpg5.jpg\n",
      "faces_aug/10_2.jpg6.jpg\n",
      "faces_aug/10_2.jpg7.jpg\n",
      "faces_aug/12_1.jpg0.jpg\n",
      "faces_aug/12_1.jpg1.jpg\n",
      "faces_aug/12_1.jpg2.jpg\n",
      "faces_aug/12_1.jpg3.jpg\n",
      "faces_aug/12_1.jpg4.jpg\n",
      "faces_aug/12_1.jpg5.jpg\n",
      "faces_aug/12_1.jpg6.jpg\n",
      "faces_aug/12_1.jpg7.jpg\n",
      "faces_aug/1_1.jpg0.jpg\n",
      "faces_aug/1_1.jpg1.jpg\n",
      "faces_aug/1_1.jpg2.jpg\n",
      "faces_aug/1_1.jpg3.jpg\n",
      "faces_aug/1_1.jpg4.jpg\n",
      "faces_aug/1_1.jpg5.jpg\n",
      "faces_aug/1_1.jpg6.jpg\n",
      "faces_aug/1_1.jpg7.jpg\n",
      "faces_aug/4_2.jpg0.jpg\n",
      "faces_aug/4_2.jpg1.jpg\n",
      "faces_aug/4_2.jpg2.jpg\n",
      "faces_aug/4_2.jpg3.jpg\n",
      "faces_aug/4_2.jpg4.jpg\n",
      "faces_aug/4_2.jpg5.jpg\n",
      "faces_aug/4_2.jpg6.jpg\n",
      "faces_aug/4_2.jpg7.jpg\n",
      "faces_aug/2_1.jpg0.jpg\n",
      "faces_aug/2_1.jpg1.jpg\n",
      "faces_aug/2_1.jpg2.jpg\n",
      "faces_aug/2_1.jpg3.jpg\n",
      "faces_aug/2_1.jpg4.jpg\n",
      "faces_aug/2_1.jpg5.jpg\n",
      "faces_aug/2_1.jpg6.jpg\n",
      "faces_aug/2_1.jpg7.jpg\n",
      "faces_aug/12_2.jpg0.jpg\n",
      "faces_aug/12_2.jpg1.jpg\n",
      "faces_aug/12_2.jpg2.jpg\n",
      "faces_aug/12_2.jpg3.jpg\n",
      "faces_aug/12_2.jpg4.jpg\n",
      "faces_aug/12_2.jpg5.jpg\n",
      "faces_aug/12_2.jpg6.jpg\n",
      "faces_aug/12_2.jpg7.jpg\n",
      "faces_aug/2_2.jpg0.jpg\n",
      "faces_aug/2_2.jpg1.jpg\n",
      "faces_aug/2_2.jpg2.jpg\n",
      "faces_aug/2_2.jpg3.jpg\n",
      "faces_aug/2_2.jpg4.jpg\n",
      "faces_aug/2_2.jpg5.jpg\n",
      "faces_aug/2_2.jpg6.jpg\n",
      "faces_aug/2_2.jpg7.jpg\n",
      "faces_aug/1_2.jpg0.jpg\n",
      "faces_aug/1_2.jpg1.jpg\n",
      "faces_aug/1_2.jpg2.jpg\n",
      "faces_aug/1_2.jpg3.jpg\n",
      "faces_aug/1_2.jpg4.jpg\n",
      "faces_aug/1_2.jpg5.jpg\n",
      "faces_aug/1_2.jpg6.jpg\n",
      "faces_aug/1_2.jpg7.jpg\n",
      "faces_aug/5_1.jpg0.jpg\n",
      "faces_aug/5_1.jpg1.jpg\n",
      "faces_aug/5_1.jpg2.jpg\n",
      "faces_aug/5_1.jpg3.jpg\n",
      "faces_aug/5_1.jpg4.jpg\n",
      "faces_aug/5_1.jpg5.jpg\n",
      "faces_aug/5_1.jpg6.jpg\n",
      "faces_aug/5_1.jpg7.jpg\n",
      "faces_aug/4_1.jpg0.jpg\n",
      "faces_aug/4_1.jpg1.jpg\n",
      "faces_aug/4_1.jpg2.jpg\n",
      "faces_aug/4_1.jpg3.jpg\n",
      "faces_aug/4_1.jpg4.jpg\n",
      "faces_aug/4_1.jpg5.jpg\n",
      "faces_aug/4_1.jpg6.jpg\n",
      "faces_aug/4_1.jpg7.jpg\n",
      "faces_aug/8_2.jpg0.jpg\n",
      "faces_aug/8_2.jpg1.jpg\n",
      "faces_aug/8_2.jpg2.jpg\n",
      "faces_aug/8_2.jpg3.jpg\n",
      "faces_aug/8_2.jpg4.jpg\n",
      "faces_aug/8_2.jpg5.jpg\n",
      "faces_aug/8_2.jpg6.jpg\n",
      "faces_aug/8_2.jpg7.jpg\n",
      "faces_aug/10_1.jpg0.jpg\n",
      "faces_aug/10_1.jpg1.jpg\n",
      "faces_aug/10_1.jpg2.jpg\n",
      "faces_aug/10_1.jpg3.jpg\n",
      "faces_aug/10_1.jpg4.jpg\n",
      "faces_aug/10_1.jpg5.jpg\n",
      "faces_aug/10_1.jpg6.jpg\n",
      "faces_aug/10_1.jpg7.jpg\n",
      "faces_aug/6_1.jpg0.jpg\n",
      "faces_aug/6_1.jpg1.jpg\n",
      "faces_aug/6_1.jpg2.jpg\n",
      "faces_aug/6_1.jpg3.jpg\n",
      "faces_aug/6_1.jpg4.jpg\n",
      "faces_aug/6_1.jpg5.jpg\n",
      "faces_aug/6_1.jpg6.jpg\n",
      "faces_aug/6_1.jpg7.jpg\n",
      "faces_aug/3_1.jpg0.jpg\n",
      "faces_aug/3_1.jpg1.jpg\n",
      "faces_aug/3_1.jpg2.jpg\n",
      "faces_aug/3_1.jpg3.jpg\n",
      "faces_aug/3_1.jpg4.jpg\n",
      "faces_aug/3_1.jpg5.jpg\n",
      "faces_aug/3_1.jpg6.jpg\n",
      "faces_aug/3_1.jpg7.jpg\n",
      "faces_aug/0_2.jpg0.jpg\n",
      "faces_aug/0_2.jpg1.jpg\n",
      "faces_aug/0_2.jpg2.jpg\n",
      "faces_aug/0_2.jpg3.jpg\n",
      "faces_aug/0_2.jpg4.jpg\n",
      "faces_aug/0_2.jpg5.jpg\n",
      "faces_aug/0_2.jpg6.jpg\n",
      "faces_aug/0_2.jpg7.jpg\n",
      "faces_aug/8_1.jpg0.jpg\n",
      "faces_aug/8_1.jpg1.jpg\n",
      "faces_aug/8_1.jpg2.jpg\n",
      "faces_aug/8_1.jpg3.jpg\n",
      "faces_aug/8_1.jpg4.jpg\n",
      "faces_aug/8_1.jpg5.jpg\n",
      "faces_aug/8_1.jpg6.jpg\n",
      "faces_aug/8_1.jpg7.jpg\n",
      "faces_aug/6_2.jpg0.jpg\n",
      "faces_aug/6_2.jpg1.jpg\n",
      "faces_aug/6_2.jpg2.jpg\n",
      "faces_aug/6_2.jpg3.jpg\n",
      "faces_aug/6_2.jpg4.jpg\n",
      "faces_aug/6_2.jpg5.jpg\n",
      "faces_aug/6_2.jpg6.jpg\n",
      "faces_aug/6_2.jpg7.jpg\n",
      "faces_aug/3_2.jpg0.jpg\n",
      "faces_aug/3_2.jpg1.jpg\n",
      "faces_aug/3_2.jpg2.jpg\n",
      "faces_aug/3_2.jpg3.jpg\n",
      "faces_aug/3_2.jpg4.jpg\n",
      "faces_aug/3_2.jpg5.jpg\n",
      "faces_aug/3_2.jpg6.jpg\n",
      "faces_aug/3_2.jpg7.jpg\n",
      "faces_aug/5_2.jpg0.jpg\n",
      "faces_aug/5_2.jpg1.jpg\n",
      "faces_aug/5_2.jpg2.jpg\n",
      "faces_aug/5_2.jpg3.jpg\n",
      "faces_aug/5_2.jpg4.jpg\n",
      "faces_aug/5_2.jpg5.jpg\n",
      "faces_aug/5_2.jpg6.jpg\n",
      "faces_aug/5_2.jpg7.jpg\n",
      "faces_aug/0_1.jpg0.jpg\n",
      "faces_aug/0_1.jpg1.jpg\n",
      "faces_aug/0_1.jpg2.jpg\n",
      "faces_aug/0_1.jpg3.jpg\n",
      "faces_aug/0_1.jpg4.jpg\n",
      "faces_aug/0_1.jpg5.jpg\n",
      "faces_aug/0_1.jpg6.jpg\n",
      "faces_aug/0_1.jpg7.jpg\n",
      "\n"
     ]
    },
    {
     "data": {
      "text/plain": [
       "array([], dtype=float64)"
      ]
     },
     "execution_count": 20,
     "metadata": {},
     "output_type": "execute_result"
    }
   ],
   "source": [
    "read_faces(\"/srv/samba/share/data/airbus/fail/faces/\")"
   ]
  },
  {
   "cell_type": "code",
   "execution_count": null,
   "metadata": {
    "collapsed": true
   },
   "outputs": [],
   "source": []
  }
 ],
 "metadata": {
  "kernelspec": {
   "display_name": "Python 3",
   "language": "python",
   "name": "python3"
  },
  "language_info": {
   "codemirror_mode": {
    "name": "ipython",
    "version": 3
   },
   "file_extension": ".py",
   "mimetype": "text/x-python",
   "name": "python",
   "nbconvert_exporter": "python",
   "pygments_lexer": "ipython3",
   "version": "3.6.5"
  }
 },
 "nbformat": 4,
 "nbformat_minor": 2
}
