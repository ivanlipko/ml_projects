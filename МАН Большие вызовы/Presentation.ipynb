{
 "cells": [
  {
   "cell_type": "code",
   "execution_count": null,
   "metadata": {
    "slideshow": {
     "slide_type": "notes"
    }
   },
   "outputs": [],
   "source": [
    "cd C:\\Users\\Scientist\\conda\\МАН Большие вызовы\n",
    "cd \"C:\\Users\\Scientist\\conda\\МАН Большие вызовы\"\n",
    "    \n",
    "jupyter nbconvert Presentation.ipynb --to slides --post serve\n",
    "\n",
    "\n",
    "https://stackoverflow.com/questions/54867466/how-to-set-jupyter-notebook-to-slides-using-reveal-js"
   ]
  },
  {
   "cell_type": "markdown",
   "metadata": {
    "slideshow": {
     "slide_type": "notes"
    }
   },
   "source": [
    "- рассказать о направлении (что это такое, актуальные проблемы и перспективы развития)\n",
    "- продемонстрировать свой кейс с целью вовлечения учащихся\n",
    "сроки выполнения кейса для учащихся : до 03 февраля 2021 года\n",
    "- прокомментировать проекты учащихся, дать рекомендации\n",
    "- ответить на вопросы учащихся "
   ]
  },
  {
   "cell_type": "markdown",
   "metadata": {
    "slideshow": {
     "slide_type": "-"
    }
   },
   "source": [
    "# Большие вызовы\n",
    "\n",
    "![](imgs/napr3.svg)"
   ]
  },
  {
   "cell_type": "markdown",
   "metadata": {
    "slideshow": {
     "slide_type": "slide"
    }
   },
   "source": [
    "# Автор кейса\n",
    "\n",
    "**Липко Иван Юрьевич**\n",
    "\n",
    "старший преподаватель, Севастопольский государственный университет\n",
    "\n",
    "педагог дополнительного образования, Малая академия наук\n",
    "\n",
    "\n",
    "**Научные интересы:** системы управления, обработка данных, робототехника\n",
    "\n",
    "![](imgs/iam.jpg)"
   ]
  },
  {
   "cell_type": "markdown",
   "metadata": {
    "slideshow": {
     "slide_type": "notes"
    }
   },
   "source": [
    "# БДан"
   ]
  },
  {
   "cell_type": "markdown",
   "metadata": {
    "slideshow": {
     "slide_type": "slide"
    }
   },
   "source": [
    "*О направлении:*\n",
    "\n",
    "**БОЛЬШИЕ ДАННЫЕ,**\n",
    "\n",
    "**ИСКУССТВЕННЫЙ ИНТЕЛЛЕКТ,**\n",
    "\n",
    "**ФИНАНСОВЫЕ ТЕХНОЛОГИИ,**\n",
    "\n",
    "**И МАШИННОЕ ОБУЧЕНИЕ**"
   ]
  },
  {
   "cell_type": "markdown",
   "metadata": {
    "slideshow": {
     "slide_type": "notes"
    }
   },
   "source": [
    "В рамках конкурса \"Большие вызовы\" это Направление очень большое. \n",
    "\n",
    "Вообще здесь перечисленно несколько технологических направлений, которые основываются на фундаменте технологий: \n",
    "\n",
    "- большие данные\n",
    "- ИИ и машинным обучением\n",
    "- Финансовые технологии на мой взгляд -- это выделено как одно из наиболее хорошо развитых прикладных сфер. Это отрасль, где используются в том числе и перечисленные технологии.\n"
   ]
  },
  {
   "cell_type": "markdown",
   "metadata": {
    "slideshow": {
     "slide_type": "slide"
    }
   },
   "source": [
    "## БОЛЬШИЕ ДАННЫЕ"
   ]
  },
  {
   "cell_type": "markdown",
   "metadata": {
    "slideshow": {
     "slide_type": "fragment"
    }
   },
   "source": [
    "**Большие данные** -- это технологии, инструменты, методы"
   ]
  },
  {
   "cell_type": "markdown",
   "metadata": {
    "slideshow": {
     "slide_type": "fragment"
    }
   },
   "source": [
    "- получить\n",
    "- хранить\n",
    "- показывать (визуализация)\n",
    "- обработка\n",
    "- передача и использование в алгоритмах ИИ и МО"
   ]
  },
  {
   "cell_type": "markdown",
   "metadata": {
    "slideshow": {
     "slide_type": "subslide"
    }
   },
   "source": [
    "![](imgs/Big-Data-Application.jpg)"
   ]
  },
  {
   "cell_type": "markdown",
   "metadata": {
    "slideshow": {
     "slide_type": "slide"
    }
   },
   "source": [
    "### Примеры\n",
    "\n",
    "**Beeline**\n",
    "\n",
    "![](imgs/Bee_2.PNG)\n",
    "\n",
    "http://datareview.info/article/sergej-marin-ob-opyte-bilajn-i-monetizacii-bolshix-dannyx/"
   ]
  },
  {
   "cell_type": "markdown",
   "metadata": {
    "slideshow": {
     "slide_type": "subslide"
    }
   },
   "source": [
    "**Beeline**\n",
    "\n",
    "![](imgs/Bee_6.PNG)\n",
    "http://datareview.info/article/sergej-marin-ob-opyte-bilajn-i-monetizacii-bolshix-dannyx/"
   ]
  },
  {
   "cell_type": "markdown",
   "metadata": {
    "slideshow": {
     "slide_type": "notes"
    }
   },
   "source": [
    "**Примеры:**\n",
    "\n",
    "- Логи поведения пользователей в интернете\n",
    "- GPS-сигналы от автомобилей для транспортной компании\n",
    "- Данные, снимаемые с датчиков в большом адронном коллайдере\n",
    "- Оцифрованные книги в Российской Государственной Библиотеке\n",
    "- Информация о транзакциях всех клиентов банка\n",
    "- Информация о всех покупках в крупной ритейл сети и т.д.\n",
    "\n",
    "\n",
    "*https://habr.com/ru/post/267361/*"
   ]
  },
  {
   "cell_type": "markdown",
   "metadata": {
    "slideshow": {
     "slide_type": "slide"
    }
   },
   "source": [
    "## ИИ и машинное обучение"
   ]
  },
  {
   "cell_type": "markdown",
   "metadata": {
    "slideshow": {
     "slide_type": "subslide"
    }
   },
   "source": [
    "![](imgs/ailand.jpg)"
   ]
  },
  {
   "cell_type": "markdown",
   "metadata": {
    "slideshow": {
     "slide_type": "subslide"
    }
   },
   "source": [
    "![](imgs/difference.jpg)"
   ]
  },
  {
   "cell_type": "markdown",
   "metadata": {
    "slideshow": {
     "slide_type": "subslide"
    }
   },
   "source": [
    "![](imgs/learning.jpg)\n",
    "\n",
    "https://zen.yandex.ru/media/id/5c228ab268a70a00adaf792a/mashinnoe-obuchenie-dlia-liudei-5c23782132121100a94a4417"
   ]
  },
  {
   "cell_type": "code",
   "execution_count": null,
   "metadata": {
    "slideshow": {
     "slide_type": "notes"
    }
   },
   "outputs": [],
   "source": [
    "Задачи машинного обучения\n",
    "- регрессия\n",
    "- классификация\n",
    "- кластеризация\n"
   ]
  },
  {
   "cell_type": "markdown",
   "metadata": {
    "slideshow": {
     "slide_type": "slide"
    }
   },
   "source": [
    "## Финансовые технологии или финтех (англ. FinTech)"
   ]
  },
  {
   "cell_type": "markdown",
   "metadata": {
    "slideshow": {
     "slide_type": "fragment"
    }
   },
   "source": [
    " -- отрасль, состоящая из компаний, использующих технологии и инновации\n",
    " \n",
    "**Ключевые слова:** Бесконтактные платежи, Криптовалюта, Блокчейн, P2P-кредитование, Insurtech, Гостех, Единорог, \n",
    "\n",
    "**Технологии:** \n",
    "- Big Data (большие данные) и анализ данных;\n",
    "- Мобильные технологии;\n",
    "- Искусственный интеллект и машинное обучение;\n",
    "- Биометрические системы;\n",
    "- Технология распределенного реестра (DLT);\n",
    "- Облачные сервисы;\n",
    "- Автоматизация и роботизация.\n",
    "\n",
    "\n",
    "https://cbr.ru/fintech/\n"
   ]
  },
  {
   "cell_type": "markdown",
   "metadata": {
    "slideshow": {
     "slide_type": "notes"
    }
   },
   "source": [
    "https://zen.yandex.ru/media/id/5d553722d5135c00adea2335/bazovye-poniatiia-finansovyh-tehnologii-5d92643b98fe7900ae8302c9"
   ]
  },
  {
   "cell_type": "markdown",
   "metadata": {
    "slideshow": {
     "slide_type": "subslide"
    }
   },
   "source": [
    "### Примеры\n",
    "\n",
    "**Маркетплейс** (online marketplace, e-commerce marketplace) — платформа электронной коммерции, онлайн-магазин электронной торговли.\n",
    "\n",
    "    - OZON\n",
    "    - Wildberries\n",
    "    - Яндекс.Маркет\n",
    "    - CDEK Маркет\n",
    "\n",
    "**Цифровые Банки**\n",
    "    - Тинькофф (+ Яндекс.Деньги)\n",
    "    - СберБанк\n",
    "    - РНКБ (~ ~ ~)\n",
    "\n",
    "**Бесконтактные платежи и IoT**\n",
    "\n",
    "**Краудфандинг**\n",
    "\n",
    "**ЖКХ**\n",
    "\n",
    "**МосГорТранспорт**\n",
    "\n",
    "https://www.insales.ru/blogs/university/otechestvennye-i-zarubezhnye-marketpleysy"
   ]
  },
  {
   "cell_type": "markdown",
   "metadata": {
    "slideshow": {
     "slide_type": "notes"
    }
   },
   "source": [
    "У тинькова вообще нет ни одного оффлайн банка, они не принимают людей. Всё онлайн"
   ]
  },
  {
   "cell_type": "markdown",
   "metadata": {
    "slideshow": {
     "slide_type": "slide"
    }
   },
   "source": [
    "## Актуальные проблемы и перспективы развития"
   ]
  },
  {
   "cell_type": "markdown",
   "metadata": {},
   "source": [
    "Из реальной жизни:\n",
    "    \n",
    "- ЖКХ + финансы + считывание данных (умный дом)\n",
    "- Транспорт\n",
    "- Чат-боты\n",
    "\n",
    "\n",
    "Онлайн-интенсив по искусственному интеллекту и анализу данных\n",
    "\n",
    "https://ai.leader-id.ru/"
   ]
  },
  {
   "cell_type": "markdown",
   "metadata": {
    "slideshow": {
     "slide_type": "subslide"
    }
   },
   "source": [
    "### 10 трендов в мире финтеха, которые полезно знать стартапам\n",
    "\n",
    "https://habr.com/ru/company/payonline/blog/298592/\n",
    "\n",
    "\n",
    "### Самые интересные идеи ИИ-проектов, поданные на Архипелаг 20.35\n",
    "https://habr.com/ru/company/leader-id/blog/525520/\n",
    "\n",
    "\n",
    "### Глубокие нейросети в компьютерном зрении: как работают, где используются и какие возникают проблемы\n",
    "https://habr.com/ru/company/leader-id/blog/529012/"
   ]
  },
  {
   "cell_type": "markdown",
   "metadata": {
    "slideshow": {
     "slide_type": "slide"
    }
   },
   "source": [
    "# Регламент"
   ]
  },
  {
   "cell_type": "markdown",
   "metadata": {
    "slideshow": {
     "slide_type": "-"
    }
   },
   "source": [
    "![Шаги к успеху](imgs/steps.jpg)"
   ]
  },
  {
   "cell_type": "markdown",
   "metadata": {
    "slideshow": {
     "slide_type": "-"
    }
   },
   "source": [
    "https://sevman.edusev.ru/about/news/1697103 -- страница основной информации"
   ]
  },
  {
   "cell_type": "markdown",
   "metadata": {
    "slideshow": {
     "slide_type": "slide"
    }
   },
   "source": [
    "##  Основные даты"
   ]
  },
  {
   "cell_type": "markdown",
   "metadata": {
    "slideshow": {
     "slide_type": "fragment"
    }
   },
   "source": [
    "- Школьный этап – до 23 ноября 2020 года\n",
    "- Районный этап – до 15 декабря 2020 года\n",
    "- Итоговый этап – **до 03 февраля 2021 года (загрузка работ в ЛК)**\n",
    "\n",
    "**Финал 10 февраля -- 28 марта**"
   ]
  },
  {
   "cell_type": "markdown",
   "metadata": {
    "slideshow": {
     "slide_type": "slide"
    }
   },
   "source": [
    "## Требования и Критерии оценки"
   ]
  },
  {
   "cell_type": "markdown",
   "metadata": {
    "slideshow": {
     "slide_type": "subslide"
    }
   },
   "source": [
    "Основные требования: \n",
    "- оригинальность\n",
    "- этичность\n",
    "- здравый смысл/научность\n",
    "- соответствие требованиям конкурса\n",
    "\n",
    "\n",
    "https://sevman.edusev.ru/uploads/800/728/section/33009/Kriterii_otsenki_rabot_v_2020-2021_uchebnom_godu.pdf?1603801477147"
   ]
  },
  {
   "cell_type": "markdown",
   "metadata": {
    "slideshow": {
     "slide_type": "notes"
    }
   },
   "source": [
    "Оригинальность\n",
    "В работе не должно содержаться значительных заимствований. Оригинальность текста должна составлять более 70% \n",
    "\n",
    "Этичность\n",
    "Работа не должна нарушать морально-этические нормы или носить провокационный характер.1\n",
    "\n",
    "Здравый смысл/научность\n",
    "Полученные результаты не должны противоречить основополагающим законам природы (т.н. вечный двигатель), не должна наблюдаться очевидная  лженаучность используемого подхода.\n",
    "\n",
    "Соответствие требованиям Положения о конкурсе \n",
    "Не прикреплен текст проекта\n",
    "Не прикреплена презентация\n",
    "Содержание презентации не соответствует тексту проекта\n",
    "Текст работы содержит более 15000 символов (не включая пробелы)\n",
    "**Представлена групповая работа, вклад заявителя в реализацию которой не определен**"
   ]
  },
  {
   "cell_type": "markdown",
   "metadata": {
    "slideshow": {
     "slide_type": "subslide"
    }
   },
   "source": [
    "Критерии: \n",
    "- Целеполагание\n",
    "- Анализ существующих решений и методов\n",
    "- Планирование работ, ресурсное обеспечение проекта\n",
    "- Качество результата\n",
    "- Самостоятельность работы над проектом и уровень командной работы\n",
    "\n",
    "https://sevman.edusev.ru/uploads/800/728/section/33009/Kriterii_otsenki_rabot_v_2020-2021_uchebnom_godu.pdf?1603801477147"
   ]
  },
  {
   "cell_type": "markdown",
   "metadata": {
    "slideshow": {
     "slide_type": "notes"
    }
   },
   "source": [
    "- Целеполагание\n",
    "\n",
    "Есть: конкретная формулировка цели проекта и проблемы, которую проект решает; актуальность проекта обоснована;3\n",
    "Чётко обозначен круг потенциальных заказчиков / потребителей / пользователей.Заявленные показатели назначения измеримы.\n",
    "\n",
    "- Анализ существующих решений и методов\n",
    "\n",
    "Есть: актуальный список литературы, подробный анализ существующих в практике решений, сравнительная таблица аналогов с указанием преимуществ предлагаемого решения\n",
    "\n",
    "- Планирование работ, ресурсное обеспечение проекта\n",
    "\n",
    "Есть: подробный план, описание использованных ресурсов и способов их привлечения для реализации проекта.    \n",
    "\n",
    "- Качество результата\n",
    "\n",
    "Дано подробное описание достигнутого результата. Есть видео и фото-подтверждения работающего образца/макета/модели. Приведена программа и методика испытаний. Полученные в ходе испытаний показатели назначения в полной мере соответствуют заявленным\n",
    "\n",
    "- Самостоятельность работы над проектом и уровень командной работы\n",
    "    \n",
    "Участник может описать ход работы над проектом, выделяет личный вклад в проект и вклад каждого члена команды.Уровень осведомлённости в профессиональной области, к которой относится проект, достаточен для дискуссии."
   ]
  },
  {
   "cell_type": "markdown",
   "metadata": {
    "slideshow": {
     "slide_type": "slide"
    }
   },
   "source": [
    "# Задание"
   ]
  },
  {
   "cell_type": "markdown",
   "metadata": {},
   "source": [
    "![](imgs/samokat.webp)"
   ]
  },
  {
   "cell_type": "markdown",
   "metadata": {},
   "source": [
    "https://sevman.edusev.ru/uploads/800/728/section/33009/Bolshie_dannye__iskusstvennyi_intellekt-1.pdf?1603800620310"
   ]
  },
  {
   "cell_type": "markdown",
   "metadata": {
    "slideshow": {
     "slide_type": "notes"
    }
   },
   "source": [
    "Экологический городской транспорт становится востребованным в нашем городе: загруженность сети общественного и личного транспорта высока, что приводит  к  желанию  людей  пользоваться  другими  видами  средств передвижения.  Появляются  компании,  заинтересованные  в  создании  сети прокатных велосипедов и электросамокатов.\n",
    "\n",
    "Каждый  велосипед  или  самокат  снабжается  датчиками,  позволяющими считывать местоположение отправления и прибытия, время пользования. Эти данные можно использовать для анализа мобильности в городе.\n",
    "\n",
    "Подобное исследование важно для учёта развития города и городской среды.Предлагается  провести  исследование  на  пробных  данных  и продемонстрировать свои навыки аналитика, программиста и математика."
   ]
  },
  {
   "cell_type": "markdown",
   "metadata": {
    "slideshow": {
     "slide_type": "subslide"
    }
   },
   "source": [
    "Необходимо  провести  исследование  факторов, способных влиять на количество прокатов за день, предложить алгоритмы прогноза; подготовить презентацию и пояснительную записку, поясняющую результаты исследования на каждом этапе."
   ]
  },
  {
   "cell_type": "markdown",
   "metadata": {
    "slideshow": {
     "slide_type": "subslide"
    }
   },
   "source": [
    "## Школьный этап\n",
    "\n",
    "подготовьте презентацию (от 7 до 15 слайдов), \n",
    "\n",
    "- которая содержит актуальность данной темы, \n",
    "- описание примеров в других городах и странах, \n",
    "- описание признаков, по которым возможно прогнозирование. \n",
    "\n",
    "На слайд «признаки» поместите 7-10 факторов, которые на ваш взгляд могут влиять на количество поездок за день. \n",
    "\n",
    "Какие, на ваш взгляд, факторы виляют сильнее других. Поясните свой выбор.\n",
    "\n",
    "Предложите источники, из которых можно было бы взять информацию по  предложенным  вами  факторы.  Проверьте  наличие  и актуальность  этих данных."
   ]
  },
  {
   "cell_type": "markdown",
   "metadata": {
    "slideshow": {
     "slide_type": "subslide"
    }
   },
   "source": [
    "## Районный этап\n",
    "\n",
    "исследование данных из csv-файла https://clck.ru/RVXC4: стройте графики, производите расчёты, используйте формулы.\n",
    "\n",
    "В  пояснительной  записке сделайте  выводы  по найденным  зависимостям,  покажите  наиболее  интересные  графики, прокомментируйте их.\n",
    "\n",
    "вопросы:\n",
    "- Зависит ли количество поездок от того рабочий или выходной день?\n",
    "- Каково  среднее  количество  поездок  в  выходные  дни?  Больше  или меньше чем среднее количество поездок в праздничные дни?\n",
    "- В какой день было больше всего поездок? Чем этот день отличается от других?\n",
    "- Каково распределение поездок по дням недели?\n",
    "- Как    сильно  погода  влияет  на  количество  прокатов  у  постоянных клиентов?\n",
    "- Как влияет ясность дня на поездки?\n",
    "- Какие самые активные часы поездок? На сколько больше поездок в праздничные дни чем в рабочие или выходные?\n",
    "\n",
    "Пояснительная записка"
   ]
  },
  {
   "cell_type": "markdown",
   "metadata": {
    "slideshow": {
     "slide_type": "subslide"
    }
   },
   "source": [
    "## Итоговый  этап\n",
    "\n",
    "Разработайте алгоритм  прогноза  количества  поездок  на текущий день. \n",
    "\n",
    "Дополните пояснительную записку (документ MSWord), разработанную на прошлых этапах, описанием алгоритмов прогноза. Обязательно включите информацию  о  качестве  прогноза,  сделайте  выводы  по  найденным зависимостям, покажите наиболее интересные графики, прокомментируйте их. Пояснительная записка должна носить исследовательский характер и иметь четко  выраженную  структуру:  содержание,  теоретическая  часть, практическая часть, заключение, список использованной литературы. \n",
    "\n",
    "Объем ПЗ не должен превышать 20 страниц. \n",
    "\n",
    "Предполагается, что на текущий день у нас есть информация о предыдущих днях, их погоде, количестве поездок и т.д."
   ]
  },
  {
   "cell_type": "markdown",
   "metadata": {
    "slideshow": {
     "slide_type": "slide"
    }
   },
   "source": [
    "## Инструменты для выполнения задания"
   ]
  },
  {
   "cell_type": "markdown",
   "metadata": {
    "slideshow": {
     "slide_type": "subslide"
    }
   },
   "source": [
    "Стартовый уровень:\n",
    "- электронные таблицы: Excel, Calc (для визуализации и анализа данных)\n",
    "- Notepad++ (для преобразования данных)\n",
    "- Интернет и поисковик (для поиска информации и методов)\n",
    "- текстовый процессор: Word, Writer (для набора пояснительной записки)"
   ]
  },
  {
   "cell_type": "markdown",
   "metadata": {
    "slideshow": {
     "slide_type": "subslide"
    }
   },
   "source": [
    "Профессиональный набор:\n",
    "- Python\n",
    "  - Jupyter (для визуализации и анализа данных)\n",
    "- R (для статистики)\n",
    "- C++/Java - программы (для анализа данных)\n",
    "\n",
    "использование профессиональных инструментов предпочтительнее\n",
    "\n",
    "Алгоритмы и технологии\n",
    "https://otus.ru/nest/post/1224/"
   ]
  },
  {
   "cell_type": "markdown",
   "metadata": {
    "slideshow": {
     "slide_type": "slide"
    }
   },
   "source": [
    "# Пример исследования данных по кейсу"
   ]
  },
  {
   "cell_type": "markdown",
   "metadata": {
    "slideshow": {
     "slide_type": "slide"
    }
   },
   "source": [
    "kaggle - notebooks"
   ]
  },
  {
   "cell_type": "markdown",
   "metadata": {
    "slideshow": {
     "slide_type": "slide"
    }
   },
   "source": [
    "# Комментарии и рекомендации к проектам\n"
   ]
  },
  {
   "cell_type": "markdown",
   "metadata": {},
   "source": [
    "- факторы - не только их наличие, но и сила влияния\n",
    "- при использовании данных - не указанно для какого времени или для какого города эти данные\n",
    "- **надо добавлять своё** в актуальность/факторы/инструменты. \n",
    "- надо искать примеры и показывать их\n",
    "- ваши гипотезы?\n",
    "- откуда будете брать даннык для оценки влияния факторов\n",
    "- метрики качества (MAE, RMSE, MAPE)\n",
    "- список источников"
   ]
  },
  {
   "cell_type": "markdown",
   "metadata": {
    "slideshow": {
     "slide_type": "slide"
    }
   },
   "source": [
    "# Ваши вопросы"
   ]
  },
  {
   "attachments": {},
   "cell_type": "markdown",
   "metadata": {},
   "source": [
    "**Липко Иван Юрьевич -- вопросы по заданию, оформление**\n",
    "\n",
    "хххх\n",
    "\n",
    "+7 n",
    "\n",
    "\n",
    "**Слюсарева Екатерина Сергеевна -- вопросы по организации, даты, оформление**\n",
    "\n",
    "хххх\n",
    "\n",
    "+7 ("
   ]
  },
  {
   "cell_type": "markdown",
   "metadata": {
    "slideshow": {
     "slide_type": "slide"
    }
   },
   "source": [
    "# И напоследок"
   ]
  },
  {
   "cell_type": "markdown",
   "metadata": {
    "slideshow": {
     "slide_type": "fragment"
    }
   },
   "source": [
    "В эту пятницу! 25 декабря"
   ]
  },
  {
   "cell_type": "markdown",
   "metadata": {
    "slideshow": {
     "slide_type": "fragment"
    }
   },
   "source": [
    "Соревнование по ИТ **\"Битва программистов\"** для 10-11 классов"
   ]
  },
  {
   "cell_type": "markdown",
   "metadata": {
    "slideshow": {
     "slide_type": "fragment"
    }
   },
   "source": [
    "Для команды из 3-х человек\n",
    "\n",
    "- викторина\n",
    "- хакерский квест\n",
    "- программирование\n",
    "\n",
    "\n",
    "https://sevman.edusev.ru/about/news/1745634"
   ]
  },
  {
   "cell_type": "markdown",
   "metadata": {
    "slideshow": {
     "slide_type": "fragment"
    }
   },
   "source": [
    "![](imgs/sevbattle.png)"
   ]
  }
 ],
 "metadata": {
  "celltoolbar": "Slideshow",
  "kernelspec": {
   "display_name": "Python 3",
   "language": "python",
   "name": "python3"
  },
  "language_info": {
   "codemirror_mode": {
    "name": "ipython",
    "version": 3
   },
   "file_extension": ".py",
   "mimetype": "text/x-python",
   "name": "python",
   "nbconvert_exporter": "python",
   "pygments_lexer": "ipython3",
   "version": "3.7.9"
  },
  "toc": {
   "base_numbering": 1,
   "nav_menu": {},
   "number_sections": true,
   "sideBar": true,
   "skip_h1_title": false,
   "title_cell": "Table of Contents",
   "title_sidebar": "Contents",
   "toc_cell": false,
   "toc_position": {},
   "toc_section_display": true,
   "toc_window_display": false
  },
  "varInspector": {
   "cols": {
    "lenName": 16,
    "lenType": 16,
    "lenVar": 40
   },
   "kernels_config": {
    "python": {
     "delete_cmd_postfix": "",
     "delete_cmd_prefix": "del ",
     "library": "var_list.py",
     "varRefreshCmd": "print(var_dic_list())"
    },
    "r": {
     "delete_cmd_postfix": ") ",
     "delete_cmd_prefix": "rm(",
     "library": "var_list.r",
     "varRefreshCmd": "cat(var_dic_list()) "
    }
   },
   "types_to_exclude": [
    "module",
    "function",
    "builtin_function_or_method",
    "instance",
    "_Feature"
   ],
   "window_display": false
  }
 },
 "nbformat": 4,
 "nbformat_minor": 4
}
